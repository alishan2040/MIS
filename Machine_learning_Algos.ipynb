{
 "cells": [
  {
   "cell_type": "markdown",
   "metadata": {},
   "source": [
    "#### Kindly see and update me. I am just preparing a sample to know either I am on the right track or not. I'll add everything you demanded. Please inform me about the work done so far"
   ]
  },
  {
   "cell_type": "markdown",
   "metadata": {},
   "source": [
    "# Imports"
   ]
  },
  {
   "cell_type": "markdown",
   "metadata": {},
   "source": [
    "We need to import following modules to implement required functionality"
   ]
  },
  {
   "cell_type": "code",
   "execution_count": 1,
   "metadata": {
    "collapsed": true
   },
   "outputs": [],
   "source": [
    "from sklearn.naive_bayes import GaussianNB\n",
    "import pandas as pd\n",
    "import numpy as np\n",
    "import matplotlib.pyplot as plt\n",
    "import scipy.stats\n",
    "import seaborn as sns\n",
    "from sklearn.cross_validation import train_test_split\n",
    "from sklearn.metrics import mean_absolute_error\n",
    "from sklearn.svm import LinearSVC\n",
    "from sklearn.metrics import confusion_matrix, log_loss\n",
    "import tools as t\n",
    "%matplotlib inline"
   ]
  },
  {
   "cell_type": "markdown",
   "metadata": {
    "collapsed": true
   },
   "source": [
    "### Reading data from files"
   ]
  },
  {
   "cell_type": "code",
   "execution_count": 2,
   "metadata": {
    "collapsed": false
   },
   "outputs": [],
   "source": [
    " \n",
    "column_names = ['term_id','doc_id', 'counts', 'class']\n",
    "\n",
    "mtx_data = pd.read_csv( \"./dataset/mtx.mtx\", sep=\"\\s+\", names=column_names)\n",
    "data_array = np.asarray(mtx_data[mtx_data.columns])\n",
    "\n",
    "classes_data  = pd.read_csv( \"./dataset/classes.txt\",sep=\"\\s+\", names=['doc_id', 'class_id'] )\n",
    "classes_array = np.asarray( classes_data[classes_data.columns])\n"
   ]
  },
  {
   "cell_type": "code",
   "execution_count": 3,
   "metadata": {
    "collapsed": false
   },
   "outputs": [
    {
     "name": "stdout",
     "output_type": "stream",
     "text": [
      "[[  1.00000000e+00   1.00000000e+00   1.00000000e+00   0.00000000e+00]\n",
      " [  1.00000000e+00   7.00000000e+00   2.00000000e+00   0.00000000e+00]\n",
      " [  1.00000000e+00   1.10000000e+01   1.00000000e+00   0.00000000e+00]\n",
      " ..., \n",
      " [  9.63500000e+03   2.18400000e+03   1.00000000e+00   4.00000000e+00]\n",
      " [  9.63500000e+03   2.18600000e+03   1.00000000e+00   4.00000000e+00]\n",
      " [  9.63500000e+03   2.21800000e+03   1.00000000e+00   4.00000000e+00]]\n"
     ]
    }
   ],
   "source": [
    "indx = np.isnan(data_array)\n",
    "data_array[indx] = 0\n",
    "\n",
    "for i in range(classes_array.shape[0]):\n",
    "    indz = data_array[:,1]==classes_array[i,0]\n",
    "    data_array[indz, 3] = classes_array[i,1]\n",
    "\n",
    "print data_array\n",
    "    \n"
   ]
  },
  {
   "cell_type": "markdown",
   "metadata": {},
   "source": [
    "### Lets Plot the data"
   ]
  },
  {
   "cell_type": "code",
   "execution_count": 4,
   "metadata": {
    "collapsed": false
   },
   "outputs": [
    {
     "data": {
      "text/plain": [
       "<matplotlib.collections.PathCollection at 0x7f0067a8f190>"
      ]
     },
     "execution_count": 4,
     "metadata": {},
     "output_type": "execute_result"
    },
    {
     "data": {
      "image/png": "[encoded data removed]",
      "text/plain": [
       "<matplotlib.figure.Figure at 0x7f0067bc0c90>"
      ]
     },
     "metadata": {},
     "output_type": "display_data"
    }
   ],
   "source": [
    "\n",
    "#Lets plot the Complete data, \n",
    "# Remember seeing is believing\n",
    "colors = ['red', 'green', 'blue', 'yellow', 'black']\n",
    "plt.scatter(data_array[:,0], data_array[:,3], c=colors )\n",
    "#plt.show()"
   ]
  },
  {
   "cell_type": "markdown",
   "metadata": {},
   "source": [
    "## Naive Bayes Algorithm"
   ]
  },
  {
   "cell_type": "code",
   "execution_count": 5,
   "metadata": {
    "collapsed": false
   },
   "outputs": [
    {
     "name": "stdout",
     "output_type": "stream",
     "text": [
      "Accuracy =  0.958769213602\n",
      "Mean Absolute Error: 0.047549306776\n",
      "-------  Confusion Matrix -------\n"
     ]
    },
    {
     "data": {
      "text/html": [
       "<div>\n",
       "<table border=\"1\" class=\"dataframe\">\n",
       "  <thead>\n",
       "    <tr style=\"text-align: right;\">\n",
       "      <th>Predicted</th>\n",
       "      <th>0.0</th>\n",
       "      <th>1.0</th>\n",
       "      <th>2.0</th>\n",
       "      <th>3.0</th>\n",
       "      <th>4.0</th>\n",
       "      <th>All</th>\n",
       "    </tr>\n",
       "    <tr>\n",
       "      <th>Actual</th>\n",
       "      <th></th>\n",
       "      <th></th>\n",
       "      <th></th>\n",
       "      <th></th>\n",
       "      <th></th>\n",
       "      <th></th>\n",
       "    </tr>\n",
       "  </thead>\n",
       "  <tbody>\n",
       "    <tr>\n",
       "      <th>0.0</th>\n",
       "      <td>14751</td>\n",
       "      <td>260</td>\n",
       "      <td>0</td>\n",
       "      <td>0</td>\n",
       "      <td>151</td>\n",
       "      <td>15162</td>\n",
       "    </tr>\n",
       "    <tr>\n",
       "      <th>1.0</th>\n",
       "      <td>1419</td>\n",
       "      <td>9670</td>\n",
       "      <td>100</td>\n",
       "      <td>0</td>\n",
       "      <td>0</td>\n",
       "      <td>11189</td>\n",
       "    </tr>\n",
       "    <tr>\n",
       "      <th>2.0</th>\n",
       "      <td>0</td>\n",
       "      <td>136</td>\n",
       "      <td>14820</td>\n",
       "      <td>183</td>\n",
       "      <td>0</td>\n",
       "      <td>15139</td>\n",
       "    </tr>\n",
       "    <tr>\n",
       "      <th>3.0</th>\n",
       "      <td>0</td>\n",
       "      <td>0</td>\n",
       "      <td>412</td>\n",
       "      <td>14127</td>\n",
       "      <td>164</td>\n",
       "      <td>14703</td>\n",
       "    </tr>\n",
       "    <tr>\n",
       "      <th>4.0</th>\n",
       "      <td>0</td>\n",
       "      <td>0</td>\n",
       "      <td>0</td>\n",
       "      <td>131</td>\n",
       "      <td>15370</td>\n",
       "      <td>15501</td>\n",
       "    </tr>\n",
       "    <tr>\n",
       "      <th>All</th>\n",
       "      <td>16170</td>\n",
       "      <td>10066</td>\n",
       "      <td>15332</td>\n",
       "      <td>14441</td>\n",
       "      <td>15685</td>\n",
       "      <td>71694</td>\n",
       "    </tr>\n",
       "  </tbody>\n",
       "</table>\n",
       "</div>"
      ],
      "text/plain": [
       "Predicted    0.0    1.0    2.0    3.0    4.0    All\n",
       "Actual                                             \n",
       "0.0        14751    260      0      0    151  15162\n",
       "1.0         1419   9670    100      0      0  11189\n",
       "2.0            0    136  14820    183      0  15139\n",
       "3.0            0      0    412  14127    164  14703\n",
       "4.0            0      0      0    131  15370  15501\n",
       "All        16170  10066  15332  14441  15685  71694"
      ]
     },
     "execution_count": 5,
     "metadata": {},
     "output_type": "execute_result"
    }
   ],
   "source": [
    "\n",
    "Xtrain, Xtest, ytrain, ytest = train_test_split(data_array[:,[0,1,2]],data_array[:,3],\n",
    "                                                 random_state=10)\n",
    "#Create a Gaussian Classifier\n",
    "gb = GaussianNB()\n",
    "\n",
    "# Train the model using the training sets \n",
    "gb.fit(Xtrain, ytrain)\n",
    "\n",
    "#Predict Output \n",
    "ypredicted= gb.predict(Xtest)\n",
    "\n",
    "#Calculating Mean Absolute Error \n",
    "mae = mean_absolute_error(ytest, ypredicted)\n",
    "\n",
    "print \"Accuracy = \", np.sum(ypredicted==ytest)/float(ytest.shape[0])\n",
    "print \"Mean Absolute Error:\",mae\n",
    "print \"-------  Confusion Matrix -------\"\n",
    "t.print_confusion_matrix(ypredicted.ravel(),ytest.ravel())\n"
   ]
  },
  {
   "cell_type": "markdown",
   "metadata": {},
   "source": [
    "## Decision Tree Classifier"
   ]
  },
  {
   "cell_type": "code",
   "execution_count": 6,
   "metadata": {
    "collapsed": false
   },
   "outputs": [
    {
     "name": "stdout",
     "output_type": "stream",
     "text": [
      "Accuracy =  1.0\n",
      "Mean Absolute Error: 0.0\n",
      "-------  Confusion Matrix -------\n"
     ]
    },
    {
     "data": {
      "text/html": [
       "<div>\n",
       "<table border=\"1\" class=\"dataframe\">\n",
       "  <thead>\n",
       "    <tr style=\"text-align: right;\">\n",
       "      <th>Predicted</th>\n",
       "      <th>0.0</th>\n",
       "      <th>1.0</th>\n",
       "      <th>2.0</th>\n",
       "      <th>3.0</th>\n",
       "      <th>4.0</th>\n",
       "      <th>All</th>\n",
       "    </tr>\n",
       "    <tr>\n",
       "      <th>Actual</th>\n",
       "      <th></th>\n",
       "      <th></th>\n",
       "      <th></th>\n",
       "      <th></th>\n",
       "      <th></th>\n",
       "      <th></th>\n",
       "    </tr>\n",
       "  </thead>\n",
       "  <tbody>\n",
       "    <tr>\n",
       "      <th>0.0</th>\n",
       "      <td>15162</td>\n",
       "      <td>0</td>\n",
       "      <td>0</td>\n",
       "      <td>0</td>\n",
       "      <td>0</td>\n",
       "      <td>15162</td>\n",
       "    </tr>\n",
       "    <tr>\n",
       "      <th>1.0</th>\n",
       "      <td>0</td>\n",
       "      <td>11189</td>\n",
       "      <td>0</td>\n",
       "      <td>0</td>\n",
       "      <td>0</td>\n",
       "      <td>11189</td>\n",
       "    </tr>\n",
       "    <tr>\n",
       "      <th>2.0</th>\n",
       "      <td>0</td>\n",
       "      <td>0</td>\n",
       "      <td>15139</td>\n",
       "      <td>0</td>\n",
       "      <td>0</td>\n",
       "      <td>15139</td>\n",
       "    </tr>\n",
       "    <tr>\n",
       "      <th>3.0</th>\n",
       "      <td>0</td>\n",
       "      <td>0</td>\n",
       "      <td>0</td>\n",
       "      <td>14703</td>\n",
       "      <td>0</td>\n",
       "      <td>14703</td>\n",
       "    </tr>\n",
       "    <tr>\n",
       "      <th>4.0</th>\n",
       "      <td>0</td>\n",
       "      <td>0</td>\n",
       "      <td>0</td>\n",
       "      <td>0</td>\n",
       "      <td>15501</td>\n",
       "      <td>15501</td>\n",
       "    </tr>\n",
       "    <tr>\n",
       "      <th>All</th>\n",
       "      <td>15162</td>\n",
       "      <td>11189</td>\n",
       "      <td>15139</td>\n",
       "      <td>14703</td>\n",
       "      <td>15501</td>\n",
       "      <td>71694</td>\n",
       "    </tr>\n",
       "  </tbody>\n",
       "</table>\n",
       "</div>"
      ],
      "text/plain": [
       "Predicted    0.0    1.0    2.0    3.0    4.0    All\n",
       "Actual                                             \n",
       "0.0        15162      0      0      0      0  15162\n",
       "1.0            0  11189      0      0      0  11189\n",
       "2.0            0      0  15139      0      0  15139\n",
       "3.0            0      0      0  14703      0  14703\n",
       "4.0            0      0      0      0  15501  15501\n",
       "All        15162  11189  15139  14703  15501  71694"
      ]
     },
     "execution_count": 6,
     "metadata": {},
     "output_type": "execute_result"
    }
   ],
   "source": [
    "from sklearn import tree\n",
    "\n",
    "#Creating Decision Tree Classifier\n",
    "clf = tree.DecisionTreeClassifier()\n",
    "\n",
    "#Train the Model using dataset\n",
    "clf.fit(Xtrain, ytrain)\n",
    "\n",
    "#Predict the output\n",
    "yfit = clf.predict(Xtest)\n",
    "\n",
    "# Calculating Error in predictions\n",
    "mae = mean_absolute_error(ytest, yfit)\n",
    "\n",
    "print \"Accuracy = \", np.sum(yfit==ytest)/float(ytest.shape[0])\n",
    "print \"Mean Absolute Error:\",mae\n",
    "print \"-------  Confusion Matrix -------\"\n",
    "t.print_confusion_matrix(yfit.ravel(),ytest.ravel())\n"
   ]
  },
  {
   "cell_type": "markdown",
   "metadata": {},
   "source": [
    "## K Neighbors Classifier"
   ]
  },
  {
   "cell_type": "code",
   "execution_count": 7,
   "metadata": {
    "collapsed": false
   },
   "outputs": [
    {
     "name": "stdout",
     "output_type": "stream",
     "text": [
      "Accuracy =  0.994113872848\n",
      "Mean Absolute Error: 0.0121209585181\n",
      "-------  Confusion Matrix -------\n"
     ]
    },
    {
     "data": {
      "text/html": [
       "<div>\n",
       "<table border=\"1\" class=\"dataframe\">\n",
       "  <thead>\n",
       "    <tr style=\"text-align: right;\">\n",
       "      <th>Predicted</th>\n",
       "      <th>0.0</th>\n",
       "      <th>1.0</th>\n",
       "      <th>2.0</th>\n",
       "      <th>3.0</th>\n",
       "      <th>4.0</th>\n",
       "      <th>All</th>\n",
       "    </tr>\n",
       "    <tr>\n",
       "      <th>Actual</th>\n",
       "      <th></th>\n",
       "      <th></th>\n",
       "      <th></th>\n",
       "      <th></th>\n",
       "      <th></th>\n",
       "      <th></th>\n",
       "    </tr>\n",
       "  </thead>\n",
       "  <tbody>\n",
       "    <tr>\n",
       "      <th>0.0</th>\n",
       "      <td>15039</td>\n",
       "      <td>13</td>\n",
       "      <td>0</td>\n",
       "      <td>0</td>\n",
       "      <td>110</td>\n",
       "      <td>15162</td>\n",
       "    </tr>\n",
       "    <tr>\n",
       "      <th>1.0</th>\n",
       "      <td>25</td>\n",
       "      <td>11129</td>\n",
       "      <td>35</td>\n",
       "      <td>0</td>\n",
       "      <td>0</td>\n",
       "      <td>11189</td>\n",
       "    </tr>\n",
       "    <tr>\n",
       "      <th>2.0</th>\n",
       "      <td>0</td>\n",
       "      <td>34</td>\n",
       "      <td>15088</td>\n",
       "      <td>17</td>\n",
       "      <td>0</td>\n",
       "      <td>15139</td>\n",
       "    </tr>\n",
       "    <tr>\n",
       "      <th>3.0</th>\n",
       "      <td>0</td>\n",
       "      <td>0</td>\n",
       "      <td>71</td>\n",
       "      <td>14590</td>\n",
       "      <td>42</td>\n",
       "      <td>14703</td>\n",
       "    </tr>\n",
       "    <tr>\n",
       "      <th>4.0</th>\n",
       "      <td>39</td>\n",
       "      <td>0</td>\n",
       "      <td>0</td>\n",
       "      <td>36</td>\n",
       "      <td>15426</td>\n",
       "      <td>15501</td>\n",
       "    </tr>\n",
       "    <tr>\n",
       "      <th>All</th>\n",
       "      <td>15103</td>\n",
       "      <td>11176</td>\n",
       "      <td>15194</td>\n",
       "      <td>14643</td>\n",
       "      <td>15578</td>\n",
       "      <td>71694</td>\n",
       "    </tr>\n",
       "  </tbody>\n",
       "</table>\n",
       "</div>"
      ],
      "text/plain": [
       "Predicted    0.0    1.0    2.0    3.0    4.0    All\n",
       "Actual                                             \n",
       "0.0        15039     13      0      0    110  15162\n",
       "1.0           25  11129     35      0      0  11189\n",
       "2.0            0     34  15088     17      0  15139\n",
       "3.0            0      0     71  14590     42  14703\n",
       "4.0           39      0      0     36  15426  15501\n",
       "All        15103  11176  15194  14643  15578  71694"
      ]
     },
     "execution_count": 7,
     "metadata": {},
     "output_type": "execute_result"
    }
   ],
   "source": [
    "from sklearn.neighbors import KNeighborsClassifier\n",
    "\n",
    "neigh = KNeighborsClassifier(n_neighbors=3)\n",
    "\n",
    "\n",
    "neigh.fit(Xtrain, ytrain)\n",
    "\n",
    "\n",
    "ypredict = neigh.predict(Xtest)\n",
    "\n",
    "#Evaluating the Error in predictions\n",
    "mae =mean_absolute_error(ytest, ypredict)\n",
    "\n",
    "print \"Accuracy = \", np.sum(ypredict==ytest)/float(ytest.shape[0])\n",
    "print \"Mean Absolute Error:\",mae\n",
    "print \"-------  Confusion Matrix -------\"\n",
    "t.print_confusion_matrix(ypredict.ravel(),ytest.ravel())\n"
   ]
  },
  {
   "cell_type": "markdown",
   "metadata": {},
   "source": [
    "## Linear SVC Classifier"
   ]
  },
  {
   "cell_type": "code",
   "execution_count": 8,
   "metadata": {
    "collapsed": false
   },
   "outputs": [
    {
     "name": "stdout",
     "output_type": "stream",
     "text": [
      "Accuracy =  0.377046893743\n",
      "Mean Absolute Error: 0.884760230982\n",
      "-------  Confusion Matrix -------\n"
     ]
    },
    {
     "data": {
      "text/html": [
       "<div>\n",
       "<table border=\"1\" class=\"dataframe\">\n",
       "  <thead>\n",
       "    <tr style=\"text-align: right;\">\n",
       "      <th>Predicted</th>\n",
       "      <th>0.0</th>\n",
       "      <th>2.0</th>\n",
       "      <th>All</th>\n",
       "    </tr>\n",
       "    <tr>\n",
       "      <th>Actual</th>\n",
       "      <th></th>\n",
       "      <th></th>\n",
       "      <th></th>\n",
       "    </tr>\n",
       "  </thead>\n",
       "  <tbody>\n",
       "    <tr>\n",
       "      <th>0.0</th>\n",
       "      <td>11893</td>\n",
       "      <td>3269</td>\n",
       "      <td>15162</td>\n",
       "    </tr>\n",
       "    <tr>\n",
       "      <th>1.0</th>\n",
       "      <td>193</td>\n",
       "      <td>10996</td>\n",
       "      <td>11189</td>\n",
       "    </tr>\n",
       "    <tr>\n",
       "      <th>2.0</th>\n",
       "      <td>0</td>\n",
       "      <td>15139</td>\n",
       "      <td>15139</td>\n",
       "    </tr>\n",
       "    <tr>\n",
       "      <th>3.0</th>\n",
       "      <td>0</td>\n",
       "      <td>14703</td>\n",
       "      <td>14703</td>\n",
       "    </tr>\n",
       "    <tr>\n",
       "      <th>4.0</th>\n",
       "      <td>0</td>\n",
       "      <td>15501</td>\n",
       "      <td>15501</td>\n",
       "    </tr>\n",
       "    <tr>\n",
       "      <th>All</th>\n",
       "      <td>12086</td>\n",
       "      <td>59608</td>\n",
       "      <td>71694</td>\n",
       "    </tr>\n",
       "  </tbody>\n",
       "</table>\n",
       "</div>"
      ],
      "text/plain": [
       "Predicted    0.0    2.0    All\n",
       "Actual                        \n",
       "0.0        11893   3269  15162\n",
       "1.0          193  10996  11189\n",
       "2.0            0  15139  15139\n",
       "3.0            0  14703  14703\n",
       "4.0            0  15501  15501\n",
       "All        12086  59608  71694"
      ]
     },
     "execution_count": 8,
     "metadata": {},
     "output_type": "execute_result"
    }
   ],
   "source": [
    "#Creating Instance of Linear SVC Classifier\n",
    "lscv = LinearSVC()\n",
    "\n",
    "#Training the model\n",
    "lscv.fit(Xtrain, ytrain)\n",
    "\n",
    "# Testing the model\n",
    "ypredict = lscv.predict(Xtest)\n",
    "\n",
    "#Evaluating the Error in predictions\n",
    "mae =mean_absolute_error(ytest, ypredict)\n",
    "\n",
    "print \"Accuracy = \", np.sum(ypredict==ytest)/float(ytest.shape[0])\n",
    "print \"Mean Absolute Error:\",mae\n",
    "print \"-------  Confusion Matrix -------\"\n",
    "t.print_confusion_matrix(ypredict.ravel(),ytest.ravel())"
   ]
  },
  {
   "cell_type": "markdown",
   "metadata": {},
   "source": [
    "## Random Forest Classifier"
   ]
  },
  {
   "cell_type": "code",
   "execution_count": 9,
   "metadata": {
    "collapsed": false
   },
   "outputs": [
    {
     "name": "stdout",
     "output_type": "stream",
     "text": [
      "Accuracy =  0.897062515692\n",
      "Mean Absolute Error: 0.102979328814\n",
      "-------  Confusion Matrix -------\n"
     ]
    },
    {
     "data": {
      "text/html": [
       "<div>\n",
       "<table border=\"1\" class=\"dataframe\">\n",
       "  <thead>\n",
       "    <tr style=\"text-align: right;\">\n",
       "      <th>Predicted</th>\n",
       "      <th>0.0</th>\n",
       "      <th>1.0</th>\n",
       "      <th>2.0</th>\n",
       "      <th>3.0</th>\n",
       "      <th>4.0</th>\n",
       "      <th>All</th>\n",
       "    </tr>\n",
       "    <tr>\n",
       "      <th>Actual</th>\n",
       "      <th></th>\n",
       "      <th></th>\n",
       "      <th></th>\n",
       "      <th></th>\n",
       "      <th></th>\n",
       "      <th></th>\n",
       "    </tr>\n",
       "  </thead>\n",
       "  <tbody>\n",
       "    <tr>\n",
       "      <th>0.0</th>\n",
       "      <td>15161</td>\n",
       "      <td>0</td>\n",
       "      <td>0</td>\n",
       "      <td>0</td>\n",
       "      <td>1</td>\n",
       "      <td>15162</td>\n",
       "    </tr>\n",
       "    <tr>\n",
       "      <th>1.0</th>\n",
       "      <td>1</td>\n",
       "      <td>3825</td>\n",
       "      <td>7363</td>\n",
       "      <td>0</td>\n",
       "      <td>0</td>\n",
       "      <td>11189</td>\n",
       "    </tr>\n",
       "    <tr>\n",
       "      <th>2.0</th>\n",
       "      <td>0</td>\n",
       "      <td>0</td>\n",
       "      <td>15138</td>\n",
       "      <td>1</td>\n",
       "      <td>0</td>\n",
       "      <td>15139</td>\n",
       "    </tr>\n",
       "    <tr>\n",
       "      <th>3.0</th>\n",
       "      <td>0</td>\n",
       "      <td>0</td>\n",
       "      <td>13</td>\n",
       "      <td>14689</td>\n",
       "      <td>1</td>\n",
       "      <td>14703</td>\n",
       "    </tr>\n",
       "    <tr>\n",
       "      <th>4.0</th>\n",
       "      <td>0</td>\n",
       "      <td>0</td>\n",
       "      <td>0</td>\n",
       "      <td>0</td>\n",
       "      <td>15501</td>\n",
       "      <td>15501</td>\n",
       "    </tr>\n",
       "    <tr>\n",
       "      <th>All</th>\n",
       "      <td>15162</td>\n",
       "      <td>3825</td>\n",
       "      <td>22514</td>\n",
       "      <td>14690</td>\n",
       "      <td>15503</td>\n",
       "      <td>71694</td>\n",
       "    </tr>\n",
       "  </tbody>\n",
       "</table>\n",
       "</div>"
      ],
      "text/plain": [
       "Predicted    0.0   1.0    2.0    3.0    4.0    All\n",
       "Actual                                            \n",
       "0.0        15161     0      0      0      1  15162\n",
       "1.0            1  3825   7363      0      0  11189\n",
       "2.0            0     0  15138      1      0  15139\n",
       "3.0            0     0     13  14689      1  14703\n",
       "4.0            0     0      0      0  15501  15501\n",
       "All        15162  3825  22514  14690  15503  71694"
      ]
     },
     "execution_count": 9,
     "metadata": {},
     "output_type": "execute_result"
    }
   ],
   "source": [
    "from sklearn.ensemble import RandomForestClassifier\n",
    "\n",
    "clf = RandomForestClassifier(n_estimators=10, max_depth=8)\n",
    "\n",
    "#Train the Model using dataset\n",
    "clf.fit(Xtrain, ytrain)\n",
    "\n",
    "#Predict the output\n",
    "yfit = clf.predict(Xtest)\n",
    "\n",
    "# Calculating Error in predictions\n",
    "mae = mean_absolute_error(ytest, yfit)\n",
    "\n",
    "print \"Accuracy = \", np.sum(yfit==ytest)/float(ytest.shape[0])\n",
    "print \"Mean Absolute Error:\",mae\n",
    "print \"-------  Confusion Matrix -------\"\n",
    "t.print_confusion_matrix(yfit.ravel(),ytest.ravel())\n"
   ]
  },
  {
   "cell_type": "markdown",
   "metadata": {},
   "source": [
    "## Gradient Boosting Classifier"
   ]
  },
  {
   "cell_type": "code",
   "execution_count": 10,
   "metadata": {
    "collapsed": false
   },
   "outputs": [
    {
     "name": "stdout",
     "output_type": "stream",
     "text": [
      "Accuracy =  1.0\n",
      "Mean Absolute Error: 0.0\n",
      "-------  Confusion Matrix -------\n"
     ]
    },
    {
     "data": {
      "text/html": [
       "<div>\n",
       "<table border=\"1\" class=\"dataframe\">\n",
       "  <thead>\n",
       "    <tr style=\"text-align: right;\">\n",
       "      <th>Predicted</th>\n",
       "      <th>0.0</th>\n",
       "      <th>1.0</th>\n",
       "      <th>2.0</th>\n",
       "      <th>3.0</th>\n",
       "      <th>4.0</th>\n",
       "      <th>All</th>\n",
       "    </tr>\n",
       "    <tr>\n",
       "      <th>Actual</th>\n",
       "      <th></th>\n",
       "      <th></th>\n",
       "      <th></th>\n",
       "      <th></th>\n",
       "      <th></th>\n",
       "      <th></th>\n",
       "    </tr>\n",
       "  </thead>\n",
       "  <tbody>\n",
       "    <tr>\n",
       "      <th>0.0</th>\n",
       "      <td>15162</td>\n",
       "      <td>0</td>\n",
       "      <td>0</td>\n",
       "      <td>0</td>\n",
       "      <td>0</td>\n",
       "      <td>15162</td>\n",
       "    </tr>\n",
       "    <tr>\n",
       "      <th>1.0</th>\n",
       "      <td>0</td>\n",
       "      <td>11189</td>\n",
       "      <td>0</td>\n",
       "      <td>0</td>\n",
       "      <td>0</td>\n",
       "      <td>11189</td>\n",
       "    </tr>\n",
       "    <tr>\n",
       "      <th>2.0</th>\n",
       "      <td>0</td>\n",
       "      <td>0</td>\n",
       "      <td>15139</td>\n",
       "      <td>0</td>\n",
       "      <td>0</td>\n",
       "      <td>15139</td>\n",
       "    </tr>\n",
       "    <tr>\n",
       "      <th>3.0</th>\n",
       "      <td>0</td>\n",
       "      <td>0</td>\n",
       "      <td>0</td>\n",
       "      <td>14703</td>\n",
       "      <td>0</td>\n",
       "      <td>14703</td>\n",
       "    </tr>\n",
       "    <tr>\n",
       "      <th>4.0</th>\n",
       "      <td>0</td>\n",
       "      <td>0</td>\n",
       "      <td>0</td>\n",
       "      <td>0</td>\n",
       "      <td>15501</td>\n",
       "      <td>15501</td>\n",
       "    </tr>\n",
       "    <tr>\n",
       "      <th>All</th>\n",
       "      <td>15162</td>\n",
       "      <td>11189</td>\n",
       "      <td>15139</td>\n",
       "      <td>14703</td>\n",
       "      <td>15501</td>\n",
       "      <td>71694</td>\n",
       "    </tr>\n",
       "  </tbody>\n",
       "</table>\n",
       "</div>"
      ],
      "text/plain": [
       "Predicted    0.0    1.0    2.0    3.0    4.0    All\n",
       "Actual                                             \n",
       "0.0        15162      0      0      0      0  15162\n",
       "1.0            0  11189      0      0      0  11189\n",
       "2.0            0      0  15139      0      0  15139\n",
       "3.0            0      0      0  14703      0  14703\n",
       "4.0            0      0      0      0  15501  15501\n",
       "All        15162  11189  15139  14703  15501  71694"
      ]
     },
     "execution_count": 10,
     "metadata": {},
     "output_type": "execute_result"
    }
   ],
   "source": [
    "from sklearn.ensemble import GradientBoostingClassifier\n",
    "\n",
    "clf = GradientBoostingClassifier(n_estimators=100, learning_rate=1.0, max_depth=1, random_state=0)\n",
    "\n",
    "#Train the Model using dataset\n",
    "clf.fit(Xtrain, ytrain)\n",
    "\n",
    "#Predict the output\n",
    "yfit = clf.predict(Xtest)\n",
    "\n",
    "# Calculating Error in predictions\n",
    "mae = mean_absolute_error(ytest, yfit)\n",
    "\n",
    "print \"Accuracy = \", np.sum(yfit==ytest)/float(ytest.shape[0])\n",
    "print \"Mean Absolute Error:\",mae\n",
    "print \"-------  Confusion Matrix -------\"\n",
    "t.print_confusion_matrix(yfit.ravel(),ytest.ravel())\n"
   ]
  },
  {
   "cell_type": "markdown",
   "metadata": {},
   "source": [
    "## Ada Boost Classifier"
   ]
  },
  {
   "cell_type": "code",
   "execution_count": 11,
   "metadata": {
    "collapsed": false
   },
   "outputs": [
    {
     "name": "stdout",
     "output_type": "stream",
     "text": [
      "Accuracy =  0.638854018467\n",
      "Mean Absolute Error: 0.361145981533\n",
      "-------  Confusion Matrix -------\n"
     ]
    },
    {
     "data": {
      "text/html": [
       "<div>\n",
       "<table border=\"1\" class=\"dataframe\">\n",
       "  <thead>\n",
       "    <tr style=\"text-align: right;\">\n",
       "      <th>Predicted</th>\n",
       "      <th>0.0</th>\n",
       "      <th>2.0</th>\n",
       "      <th>4.0</th>\n",
       "      <th>All</th>\n",
       "    </tr>\n",
       "    <tr>\n",
       "      <th>Actual</th>\n",
       "      <th></th>\n",
       "      <th></th>\n",
       "      <th></th>\n",
       "      <th></th>\n",
       "    </tr>\n",
       "  </thead>\n",
       "  <tbody>\n",
       "    <tr>\n",
       "      <th>0.0</th>\n",
       "      <td>15162</td>\n",
       "      <td>0</td>\n",
       "      <td>0</td>\n",
       "      <td>15162</td>\n",
       "    </tr>\n",
       "    <tr>\n",
       "      <th>1.0</th>\n",
       "      <td>0</td>\n",
       "      <td>11189</td>\n",
       "      <td>0</td>\n",
       "      <td>11189</td>\n",
       "    </tr>\n",
       "    <tr>\n",
       "      <th>2.0</th>\n",
       "      <td>0</td>\n",
       "      <td>15139</td>\n",
       "      <td>0</td>\n",
       "      <td>15139</td>\n",
       "    </tr>\n",
       "    <tr>\n",
       "      <th>3.0</th>\n",
       "      <td>0</td>\n",
       "      <td>14703</td>\n",
       "      <td>0</td>\n",
       "      <td>14703</td>\n",
       "    </tr>\n",
       "    <tr>\n",
       "      <th>4.0</th>\n",
       "      <td>0</td>\n",
       "      <td>0</td>\n",
       "      <td>15501</td>\n",
       "      <td>15501</td>\n",
       "    </tr>\n",
       "    <tr>\n",
       "      <th>All</th>\n",
       "      <td>15162</td>\n",
       "      <td>41031</td>\n",
       "      <td>15501</td>\n",
       "      <td>71694</td>\n",
       "    </tr>\n",
       "  </tbody>\n",
       "</table>\n",
       "</div>"
      ],
      "text/plain": [
       "Predicted    0.0    2.0    4.0    All\n",
       "Actual                               \n",
       "0.0        15162      0      0  15162\n",
       "1.0            0  11189      0  11189\n",
       "2.0            0  15139      0  15139\n",
       "3.0            0  14703      0  14703\n",
       "4.0            0      0  15501  15501\n",
       "All        15162  41031  15501  71694"
      ]
     },
     "execution_count": 11,
     "metadata": {},
     "output_type": "execute_result"
    }
   ],
   "source": [
    "from sklearn.ensemble import AdaBoostClassifier\n",
    "\n",
    "clf = AdaBoostClassifier()\n",
    "\n",
    "#Train the Model using dataset\n",
    "clf.fit(Xtrain, ytrain)\n",
    "\n",
    "#Predict the output\n",
    "yfit = clf.predict(Xtest)\n",
    "\n",
    "# Calculating Error in predictions\n",
    "mae = mean_absolute_error(ytest, yfit)\n",
    "\n",
    "print \"Accuracy = \", np.sum(yfit==ytest)/float(ytest.shape[0])\n",
    "print \"Mean Absolute Error:\",mae\n",
    "print \"-------  Confusion Matrix -------\"\n",
    "t.print_confusion_matrix(yfit.ravel(),ytest.ravel())\n"
   ]
  },
  {
   "cell_type": "code",
   "execution_count": null,
   "metadata": {
    "collapsed": true
   },
   "outputs": [],
   "source": []
  }
 ],
 "metadata": {
  "anaconda-cloud": {},
  "kernelspec": {
   "display_name": "Python [conda root]",
   "language": "python",
   "name": "conda-root-py"
  },
  "language_info": {
   "codemirror_mode": {
    "name": "ipython",
    "version": 2
   },
   "file_extension": ".py",
   "mimetype": "text/x-python",
   "name": "python",
   "nbconvert_exporter": "python",
   "pygments_lexer": "ipython2",
   "version": "2.7.12"
  }
 },
 "nbformat": 4,
 "nbformat_minor": 1
}
