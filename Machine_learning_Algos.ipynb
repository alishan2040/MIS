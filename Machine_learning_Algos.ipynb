{
 "cells": [
  {
   "cell_type": "markdown",
   "metadata": {},
   "source": [
    "\n",
    "# Mechanics\n",
    "\n",
    "You should produce a Jupyter notebook in answer to this assignment. You need to submit this notebook electronically as described below.\n",
    "\n",
    "Place your notebook in a directory called iamlans and submit this directory using the submit command on a DICE machine. The format is:\n",
    "\n",
    "submit iaml 4 iamlans\n",
    "\n",
    "You can check the status of your submissions with the show_submissions command.\n",
    "\n",
    "Late submissions: The policy stated in the School of Informatics MSc Degree Guide is that normally you will not be allowed to submit coursework late. See http://www.inf.ed.ac.uk/teaching/years/msc/courseguide10.html#exam for exceptions to this, e.g. in case of serious medical illness or serious personal problems.\n",
    "\n",
    "Collaboration: You may discuss the assignment with your colleagues, provided that the writing that you submit is entirely your own. That is, you should NOT borrow actual text or code from other students. We ask that you provide a list of the people who you've had discussions with (if any).\n",
    "\n",
    "#### Dead Kernal\n",
    "In case kernel does not connect, and shows a dead kernal meggese in read : \n",
    "- Go to Kernal -> Change kernal, and choose any of the available kernels.\n",
    "- Press ctrl + s and close the tab.\n",
    "- Open the notebook again and the kernel will connect. If it still does not connect then go to Kernel -> restart.\n",
    "\n",
    "**Note : ** Accuracies may slightly vary due to randomness in train-text split. "
   ]
  },
  {
   "cell_type": "markdown",
   "metadata": {},
   "source": [
    "# Supervised Learning"
   ]
  },
  {
   "cell_type": "markdown",
   "metadata": {},
   "source": [
    "\n",
    "In this project, we will apply all the machine learning classifiers on the given dataset. We will perform exploratory data analysis, visualisation and, finally, we learn how to perform classification tasks using Naive Bayes,Decision Trees, K-Nearest Neighbors, Linear SVC , Support Vector Classifier, Random Forest, Gradeint Decent, and Ada Boost Classifier,etc. For this, we will use some python packages and scikit-learn package (sklearn): a machine learning library for Python which works with numpy array, and pandas DataFrame objects.\n",
    "\n",
    "Please Note: If you get confused, refer to the documentation and just ctrl+f for the object concerned:\n",
    "\n",
    "- Scikit-learn API documentation\n",
    "- Seaborn API documentation\n",
    "- Matplotlib Pyplot documentation\n",
    "- Pandas API documentation\n",
    "- Numpy documentation\n"
   ]
  },
  {
   "cell_type": "markdown",
   "metadata": {},
   "source": [
    "# Imports\n",
    "In this project, you are asked to import all the packages and modules you will need. Include all required imports and execute the cell below."
   ]
  },
  {
   "cell_type": "code",
   "execution_count": 116,
   "metadata": {
    "collapsed": false
   },
   "outputs": [],
   "source": [
    "from sklearn.naive_bayes import GaussianNB, MultinomialNB\n",
    "import pandas as pd\n",
    "from collections import defaultdict\n",
    "import numpy as np\n",
    "import matplotlib.pyplot as plt\n",
    "import scipy.stats\n",
    "import seaborn as sns\n",
    "import matplotlib\n",
    "from sklearn.cross_validation import train_test_split\n",
    "from sklearn.metrics import mean_absolute_error\n",
    "from sklearn.svm import LinearSVC\n",
    "from sklearn import svm\n",
    "from sklearn.neighbors import KNeighborsClassifier\n",
    "from sklearn.metrics import confusion_matrix, log_loss\n",
    "import tools as t\n",
    "from sklearn.utils import resample\n",
    "from sklearn.model_selection import GridSearchCV\n",
    "\n",
    "from sklearn.cluster import MiniBatchKMeans\n",
    "\n",
    "from sklearn.pipeline import Pipeline\n",
    "\n",
    "from sklearn.kernel_approximation import RBFSampler\n",
    "from sklearn.linear_model import SGDClassifier\n",
    "\n",
    "# plt.style.use('ggplot')\n",
    "# matplotlib.rcParams['figure.figsize'] = (10.0, 8.0)\n",
    "# %load_ext autoreload \n",
    "# %autoreload 2\n",
    "# %matplotlib inline"
   ]
  },
  {
   "cell_type": "markdown",
   "metadata": {},
   "source": [
    "\n",
    "#### Clarification:\n",
    "\n",
    "    The %matplotlib inline command is a special ipython built in magic command which forces the matplotlib plots to be rendered within the notebook.\n",
    "\n"
   ]
  },
  {
   "cell_type": "markdown",
   "metadata": {},
   "source": [
    "# Description of the datasets"
   ]
  },
  {
   "cell_type": "markdown",
   "metadata": {},
   "source": [
    "\n",
    "The Dataset is based on 4 small preprocessed datasets:\n",
    "It contains 2225 documents\n",
    "\n",
    "**classes.txt:** document id and the class id\n",
    "\n",
    "**docs.txt: ** Description of the classes\n",
    "\n",
    "**mtx.mtx:** \n",
    "It has three columns:\n",
    "\n",
    "    column 0: the id of the term\n",
    "\n",
    "    column 1: the id of the document\n",
    "\n",
    "    column 2: counts/frequency\n",
    "\n",
    "**terms.txt:** each row corresponds to a word/term (id is obviously the row number)\n",
    "\n",
    "**Note: **Execute the cell below to load the csv into in a pandas DataFrame object.\n"
   ]
  },
  {
   "cell_type": "markdown",
   "metadata": {
    "collapsed": true
   },
   "source": [
    "### Load Dataset in Pandas DataFrame"
   ]
  },
  {
   "cell_type": "code",
   "execution_count": 2,
   "metadata": {
    "collapsed": false
   },
   "outputs": [],
   "source": [
    "# Loading dataset\n",
    "\n",
    "#Column names for our dataset \n",
    "column_names = ['term_id','doc_id', 'counts']\n",
    "\n",
    "#Reading Dataset into Pandas Dataframe\n",
    "mtx_data = pd.read_csv( \"./dataset/mtx.mtx\", sep=\"\\s+\", names=column_names)\n",
    "terms_data    = pd.read_csv(\"./dataset/terms.txt\", sep=\"\\s+\", names = ['words'], encoding='utf-8')\n",
    "classes_data  = pd.read_csv( \"./dataset/classes.txt\", sep=\"\\s+\", names=list(['doc_id', 'class_id']))\n"
   ]
  },
  {
   "cell_type": "markdown",
   "metadata": {},
   "source": [
    "### Get Your Data in numpy arrays"
   ]
  },
  {
   "cell_type": "code",
   "execution_count": 51,
   "metadata": {
    "collapsed": false
   },
   "outputs": [],
   "source": [
    "\n",
    "data_array = np.asarray(mtx_data[mtx_data.columns])\n",
    "classes_array = np.asarray(classes_data[classes_data.columns])\n",
    "Columns = np.array(list(terms_data.words))\n",
    "\n",
    "# array of zeros\n",
    "zero_arr = np.zeros((2225,1), dtype=int)\n",
    "i=0\n",
    "for col in Columns:\n",
    "    classes_data[col] = zero_arr\n",
    "    if i==2225:\n",
    "        break\n",
    "    i += 1\n",
    "\n",
    "for i in range(classes_array.shape[0]):\n",
    "    \n",
    "    #if (i+1)%10 == 0:\n",
    "    print \"i:\",i,\n",
    "        #break\n",
    "    \n",
    "    doc_id = classes_array[i, 0]        # Getting Document id\n",
    "    mask = data_array[:,1]==doc_id      # Getting indices where condition holds \n",
    "                                        # mask is boolean array\n",
    "    if sum(mask) > 0:                   # Not empty list returned\n",
    "        \n",
    "        terms_ids = data_array[mask, 0]\n",
    "        arr = np.array(terms_ids, dtype=int)\n",
    "        words = list(Columns[list(arr-1)])\n",
    "        #l += len(words)\n",
    "        for word in words:              #Placing 1 on the each occurance of each word in each document\n",
    "            \n",
    "            #classes_data.set_value(i, unicode(word), 1)\n",
    "            \n",
    "            # some characters do not lie in ascii(128) so need to cast them in unicode\n",
    "            classes_data.ix[i][unicode(word)]= 1 \n",
    "\n",
    "print \"No.of NaN Entries:\",classes_data.isnull().sum().sum()\n"
   ]
  },
  {
   "cell_type": "code",
   "execution_count": 23,
   "metadata": {
    "collapsed": false
   },
   "outputs": [
    {
     "data": {
      "text/html": [
       "<div>\n",
       "<table border=\"1\" class=\"dataframe\">\n",
       "  <thead>\n",
       "    <tr style=\"text-align: right;\">\n",
       "      <th></th>\n",
       "      <th>doc_id</th>\n",
       "      <th>class_id</th>\n",
       "      <th>ad</th>\n",
       "      <th>sale</th>\n",
       "      <th>boost</th>\n",
       "      <th>time</th>\n",
       "      <th>warner</th>\n",
       "      <th>profit</th>\n",
       "      <th>quarterli</th>\n",
       "      <th>media</th>\n",
       "      <th>...</th>\n",
       "      <th>wholli</th>\n",
       "      <th>exploit</th>\n",
       "      <th>commerci</th>\n",
       "      <th>synergi</th>\n",
       "      <th>outright</th>\n",
       "      <th>evid</th>\n",
       "      <th>silvio</th>\n",
       "      <th>berlusconi</th>\n",
       "      <th>sputter</th>\n",
       "      <th>rome</th>\n",
       "    </tr>\n",
       "  </thead>\n",
       "  <tbody>\n",
       "    <tr>\n",
       "      <th>0</th>\n",
       "      <td>0</td>\n",
       "      <td>0</td>\n",
       "      <td>1</td>\n",
       "      <td>0</td>\n",
       "      <td>0</td>\n",
       "      <td>0</td>\n",
       "      <td>0</td>\n",
       "      <td>0</td>\n",
       "      <td>0</td>\n",
       "      <td>0</td>\n",
       "      <td>...</td>\n",
       "      <td>0</td>\n",
       "      <td>0</td>\n",
       "      <td>0</td>\n",
       "      <td>0</td>\n",
       "      <td>0</td>\n",
       "      <td>0</td>\n",
       "      <td>0</td>\n",
       "      <td>0</td>\n",
       "      <td>0</td>\n",
       "      <td>0</td>\n",
       "    </tr>\n",
       "    <tr>\n",
       "      <th>1</th>\n",
       "      <td>1</td>\n",
       "      <td>0</td>\n",
       "      <td>1</td>\n",
       "      <td>1</td>\n",
       "      <td>1</td>\n",
       "      <td>1</td>\n",
       "      <td>1</td>\n",
       "      <td>1</td>\n",
       "      <td>1</td>\n",
       "      <td>1</td>\n",
       "      <td>...</td>\n",
       "      <td>0</td>\n",
       "      <td>0</td>\n",
       "      <td>0</td>\n",
       "      <td>0</td>\n",
       "      <td>0</td>\n",
       "      <td>0</td>\n",
       "      <td>0</td>\n",
       "      <td>0</td>\n",
       "      <td>0</td>\n",
       "      <td>0</td>\n",
       "    </tr>\n",
       "    <tr>\n",
       "      <th>2</th>\n",
       "      <td>2</td>\n",
       "      <td>0</td>\n",
       "      <td>0</td>\n",
       "      <td>0</td>\n",
       "      <td>1</td>\n",
       "      <td>1</td>\n",
       "      <td>0</td>\n",
       "      <td>0</td>\n",
       "      <td>0</td>\n",
       "      <td>0</td>\n",
       "      <td>...</td>\n",
       "      <td>0</td>\n",
       "      <td>0</td>\n",
       "      <td>0</td>\n",
       "      <td>0</td>\n",
       "      <td>0</td>\n",
       "      <td>0</td>\n",
       "      <td>0</td>\n",
       "      <td>0</td>\n",
       "      <td>0</td>\n",
       "      <td>0</td>\n",
       "    </tr>\n",
       "    <tr>\n",
       "      <th>3</th>\n",
       "      <td>3</td>\n",
       "      <td>0</td>\n",
       "      <td>0</td>\n",
       "      <td>1</td>\n",
       "      <td>0</td>\n",
       "      <td>0</td>\n",
       "      <td>0</td>\n",
       "      <td>0</td>\n",
       "      <td>0</td>\n",
       "      <td>0</td>\n",
       "      <td>...</td>\n",
       "      <td>0</td>\n",
       "      <td>0</td>\n",
       "      <td>0</td>\n",
       "      <td>0</td>\n",
       "      <td>0</td>\n",
       "      <td>0</td>\n",
       "      <td>0</td>\n",
       "      <td>0</td>\n",
       "      <td>0</td>\n",
       "      <td>0</td>\n",
       "    </tr>\n",
       "    <tr>\n",
       "      <th>4</th>\n",
       "      <td>4</td>\n",
       "      <td>0</td>\n",
       "      <td>0</td>\n",
       "      <td>1</td>\n",
       "      <td>0</td>\n",
       "      <td>0</td>\n",
       "      <td>0</td>\n",
       "      <td>1</td>\n",
       "      <td>1</td>\n",
       "      <td>0</td>\n",
       "      <td>...</td>\n",
       "      <td>0</td>\n",
       "      <td>0</td>\n",
       "      <td>0</td>\n",
       "      <td>0</td>\n",
       "      <td>0</td>\n",
       "      <td>0</td>\n",
       "      <td>0</td>\n",
       "      <td>0</td>\n",
       "      <td>0</td>\n",
       "      <td>0</td>\n",
       "    </tr>\n",
       "    <tr>\n",
       "      <th>5</th>\n",
       "      <td>5</td>\n",
       "      <td>0</td>\n",
       "      <td>0</td>\n",
       "      <td>0</td>\n",
       "      <td>0</td>\n",
       "      <td>1</td>\n",
       "      <td>0</td>\n",
       "      <td>0</td>\n",
       "      <td>0</td>\n",
       "      <td>0</td>\n",
       "      <td>...</td>\n",
       "      <td>0</td>\n",
       "      <td>0</td>\n",
       "      <td>0</td>\n",
       "      <td>0</td>\n",
       "      <td>0</td>\n",
       "      <td>0</td>\n",
       "      <td>0</td>\n",
       "      <td>0</td>\n",
       "      <td>0</td>\n",
       "      <td>0</td>\n",
       "    </tr>\n",
       "    <tr>\n",
       "      <th>6</th>\n",
       "      <td>6</td>\n",
       "      <td>0</td>\n",
       "      <td>0</td>\n",
       "      <td>0</td>\n",
       "      <td>0</td>\n",
       "      <td>0</td>\n",
       "      <td>0</td>\n",
       "      <td>0</td>\n",
       "      <td>0</td>\n",
       "      <td>0</td>\n",
       "      <td>...</td>\n",
       "      <td>0</td>\n",
       "      <td>0</td>\n",
       "      <td>0</td>\n",
       "      <td>0</td>\n",
       "      <td>0</td>\n",
       "      <td>0</td>\n",
       "      <td>0</td>\n",
       "      <td>0</td>\n",
       "      <td>0</td>\n",
       "      <td>0</td>\n",
       "    </tr>\n",
       "    <tr>\n",
       "      <th>7</th>\n",
       "      <td>7</td>\n",
       "      <td>0</td>\n",
       "      <td>1</td>\n",
       "      <td>0</td>\n",
       "      <td>1</td>\n",
       "      <td>0</td>\n",
       "      <td>0</td>\n",
       "      <td>0</td>\n",
       "      <td>0</td>\n",
       "      <td>0</td>\n",
       "      <td>...</td>\n",
       "      <td>0</td>\n",
       "      <td>0</td>\n",
       "      <td>0</td>\n",
       "      <td>0</td>\n",
       "      <td>0</td>\n",
       "      <td>0</td>\n",
       "      <td>0</td>\n",
       "      <td>0</td>\n",
       "      <td>0</td>\n",
       "      <td>0</td>\n",
       "    </tr>\n",
       "    <tr>\n",
       "      <th>8</th>\n",
       "      <td>8</td>\n",
       "      <td>0</td>\n",
       "      <td>0</td>\n",
       "      <td>0</td>\n",
       "      <td>0</td>\n",
       "      <td>0</td>\n",
       "      <td>0</td>\n",
       "      <td>0</td>\n",
       "      <td>0</td>\n",
       "      <td>0</td>\n",
       "      <td>...</td>\n",
       "      <td>0</td>\n",
       "      <td>0</td>\n",
       "      <td>0</td>\n",
       "      <td>0</td>\n",
       "      <td>0</td>\n",
       "      <td>0</td>\n",
       "      <td>0</td>\n",
       "      <td>0</td>\n",
       "      <td>0</td>\n",
       "      <td>0</td>\n",
       "    </tr>\n",
       "    <tr>\n",
       "      <th>9</th>\n",
       "      <td>9</td>\n",
       "      <td>0</td>\n",
       "      <td>0</td>\n",
       "      <td>0</td>\n",
       "      <td>0</td>\n",
       "      <td>0</td>\n",
       "      <td>0</td>\n",
       "      <td>0</td>\n",
       "      <td>0</td>\n",
       "      <td>0</td>\n",
       "      <td>...</td>\n",
       "      <td>0</td>\n",
       "      <td>0</td>\n",
       "      <td>0</td>\n",
       "      <td>0</td>\n",
       "      <td>0</td>\n",
       "      <td>0</td>\n",
       "      <td>0</td>\n",
       "      <td>0</td>\n",
       "      <td>0</td>\n",
       "      <td>0</td>\n",
       "    </tr>\n",
       "  </tbody>\n",
       "</table>\n",
       "<p>10 rows × 2228 columns</p>\n",
       "</div>"
      ],
      "text/plain": [
       "   doc_id  class_id  ad  sale  boost  time  warner  profit  quarterli  media  \\\n",
       "0       0         0   1     0      0     0       0       0          0      0   \n",
       "1       1         0   1     1      1     1       1       1          1      1   \n",
       "2       2         0   0     0      1     1       0       0          0      0   \n",
       "3       3         0   0     1      0     0       0       0          0      0   \n",
       "4       4         0   0     1      0     0       0       1          1      0   \n",
       "5       5         0   0     0      0     1       0       0          0      0   \n",
       "6       6         0   0     0      0     0       0       0          0      0   \n",
       "7       7         0   1     0      1     0       0       0          0      0   \n",
       "8       8         0   0     0      0     0       0       0          0      0   \n",
       "9       9         0   0     0      0     0       0       0          0      0   \n",
       "\n",
       "   ...   wholli  exploit  commerci  synergi  outright  evid  silvio  \\\n",
       "0  ...        0        0         0        0         0     0       0   \n",
       "1  ...        0        0         0        0         0     0       0   \n",
       "2  ...        0        0         0        0         0     0       0   \n",
       "3  ...        0        0         0        0         0     0       0   \n",
       "4  ...        0        0         0        0         0     0       0   \n",
       "5  ...        0        0         0        0         0     0       0   \n",
       "6  ...        0        0         0        0         0     0       0   \n",
       "7  ...        0        0         0        0         0     0       0   \n",
       "8  ...        0        0         0        0         0     0       0   \n",
       "9  ...        0        0         0        0         0     0       0   \n",
       "\n",
       "   berlusconi  sputter  rome  \n",
       "0           0        0     0  \n",
       "1           0        0     0  \n",
       "2           0        0     0  \n",
       "3           0        0     0  \n",
       "4           0        0     0  \n",
       "5           0        0     0  \n",
       "6           0        0     0  \n",
       "7           0        0     0  \n",
       "8           0        0     0  \n",
       "9           0        0     0  \n",
       "\n",
       "[10 rows x 2228 columns]"
      ]
     },
     "execution_count": 23,
     "metadata": {},
     "output_type": "execute_result"
    }
   ],
   "source": [
    "classes_data.head(10)"
   ]
  },
  {
   "cell_type": "markdown",
   "metadata": {},
   "source": [
    "#### Loading Pandas DataFrames into numpy arrays"
   ]
  },
  {
   "cell_type": "markdown",
   "metadata": {},
   "source": [
    "## Saving DataFrame to .CSV File"
   ]
  },
  {
   "cell_type": "code",
   "execution_count": 21,
   "metadata": {
    "collapsed": false
   },
   "outputs": [],
   "source": [
    "classes_data.to_csv(\"Data_set.csv\", sep=\"\\t\", encoding='utf-8')"
   ]
  },
  {
   "cell_type": "markdown",
   "metadata": {},
   "source": [
    "We have now loaded the data. Let's get a feeling of what the data looks like by using the head() method."
   ]
  },
  {
   "cell_type": "code",
   "execution_count": 22,
   "metadata": {
    "collapsed": false
   },
   "outputs": [
    {
     "data": {
      "text/html": [
       "<div>\n",
       "<table border=\"1\" class=\"dataframe\">\n",
       "  <thead>\n",
       "    <tr style=\"text-align: right;\">\n",
       "      <th></th>\n",
       "      <th>doc_id</th>\n",
       "      <th>class_id</th>\n",
       "      <th>ad</th>\n",
       "      <th>sale</th>\n",
       "      <th>boost</th>\n",
       "      <th>time</th>\n",
       "      <th>warner</th>\n",
       "      <th>profit</th>\n",
       "      <th>quarterli</th>\n",
       "      <th>media</th>\n",
       "      <th>...</th>\n",
       "      <th>wholli</th>\n",
       "      <th>exploit</th>\n",
       "      <th>commerci</th>\n",
       "      <th>synergi</th>\n",
       "      <th>outright</th>\n",
       "      <th>evid</th>\n",
       "      <th>silvio</th>\n",
       "      <th>berlusconi</th>\n",
       "      <th>sputter</th>\n",
       "      <th>rome</th>\n",
       "    </tr>\n",
       "  </thead>\n",
       "  <tbody>\n",
       "    <tr>\n",
       "      <th>0</th>\n",
       "      <td>0</td>\n",
       "      <td>0</td>\n",
       "      <td>1</td>\n",
       "      <td>0</td>\n",
       "      <td>0</td>\n",
       "      <td>0</td>\n",
       "      <td>0</td>\n",
       "      <td>0</td>\n",
       "      <td>0</td>\n",
       "      <td>0</td>\n",
       "      <td>...</td>\n",
       "      <td>0</td>\n",
       "      <td>0</td>\n",
       "      <td>0</td>\n",
       "      <td>0</td>\n",
       "      <td>0</td>\n",
       "      <td>0</td>\n",
       "      <td>0</td>\n",
       "      <td>0</td>\n",
       "      <td>0</td>\n",
       "      <td>0</td>\n",
       "    </tr>\n",
       "    <tr>\n",
       "      <th>1</th>\n",
       "      <td>1</td>\n",
       "      <td>0</td>\n",
       "      <td>1</td>\n",
       "      <td>1</td>\n",
       "      <td>1</td>\n",
       "      <td>1</td>\n",
       "      <td>1</td>\n",
       "      <td>1</td>\n",
       "      <td>1</td>\n",
       "      <td>1</td>\n",
       "      <td>...</td>\n",
       "      <td>0</td>\n",
       "      <td>0</td>\n",
       "      <td>0</td>\n",
       "      <td>0</td>\n",
       "      <td>0</td>\n",
       "      <td>0</td>\n",
       "      <td>0</td>\n",
       "      <td>0</td>\n",
       "      <td>0</td>\n",
       "      <td>0</td>\n",
       "    </tr>\n",
       "    <tr>\n",
       "      <th>2</th>\n",
       "      <td>2</td>\n",
       "      <td>0</td>\n",
       "      <td>0</td>\n",
       "      <td>0</td>\n",
       "      <td>1</td>\n",
       "      <td>1</td>\n",
       "      <td>0</td>\n",
       "      <td>0</td>\n",
       "      <td>0</td>\n",
       "      <td>0</td>\n",
       "      <td>...</td>\n",
       "      <td>0</td>\n",
       "      <td>0</td>\n",
       "      <td>0</td>\n",
       "      <td>0</td>\n",
       "      <td>0</td>\n",
       "      <td>0</td>\n",
       "      <td>0</td>\n",
       "      <td>0</td>\n",
       "      <td>0</td>\n",
       "      <td>0</td>\n",
       "    </tr>\n",
       "    <tr>\n",
       "      <th>3</th>\n",
       "      <td>3</td>\n",
       "      <td>0</td>\n",
       "      <td>0</td>\n",
       "      <td>1</td>\n",
       "      <td>0</td>\n",
       "      <td>0</td>\n",
       "      <td>0</td>\n",
       "      <td>0</td>\n",
       "      <td>0</td>\n",
       "      <td>0</td>\n",
       "      <td>...</td>\n",
       "      <td>0</td>\n",
       "      <td>0</td>\n",
       "      <td>0</td>\n",
       "      <td>0</td>\n",
       "      <td>0</td>\n",
       "      <td>0</td>\n",
       "      <td>0</td>\n",
       "      <td>0</td>\n",
       "      <td>0</td>\n",
       "      <td>0</td>\n",
       "    </tr>\n",
       "    <tr>\n",
       "      <th>4</th>\n",
       "      <td>4</td>\n",
       "      <td>0</td>\n",
       "      <td>0</td>\n",
       "      <td>1</td>\n",
       "      <td>0</td>\n",
       "      <td>0</td>\n",
       "      <td>0</td>\n",
       "      <td>1</td>\n",
       "      <td>1</td>\n",
       "      <td>0</td>\n",
       "      <td>...</td>\n",
       "      <td>0</td>\n",
       "      <td>0</td>\n",
       "      <td>0</td>\n",
       "      <td>0</td>\n",
       "      <td>0</td>\n",
       "      <td>0</td>\n",
       "      <td>0</td>\n",
       "      <td>0</td>\n",
       "      <td>0</td>\n",
       "      <td>0</td>\n",
       "    </tr>\n",
       "  </tbody>\n",
       "</table>\n",
       "<p>5 rows × 2228 columns</p>\n",
       "</div>"
      ],
      "text/plain": [
       "   doc_id  class_id  ad  sale  boost  time  warner  profit  quarterli  media  \\\n",
       "0       0         0   1     0      0     0       0       0          0      0   \n",
       "1       1         0   1     1      1     1       1       1          1      1   \n",
       "2       2         0   0     0      1     1       0       0          0      0   \n",
       "3       3         0   0     1      0     0       0       0          0      0   \n",
       "4       4         0   0     1      0     0       0       1          1      0   \n",
       "\n",
       "   ...   wholli  exploit  commerci  synergi  outright  evid  silvio  \\\n",
       "0  ...        0        0         0        0         0     0       0   \n",
       "1  ...        0        0         0        0         0     0       0   \n",
       "2  ...        0        0         0        0         0     0       0   \n",
       "3  ...        0        0         0        0         0     0       0   \n",
       "4  ...        0        0         0        0         0     0       0   \n",
       "\n",
       "   berlusconi  sputter  rome  \n",
       "0           0        0     0  \n",
       "1           0        0     0  \n",
       "2           0        0     0  \n",
       "3           0        0     0  \n",
       "4           0        0     0  \n",
       "\n",
       "[5 rows x 2228 columns]"
      ]
     },
     "execution_count": 22,
     "metadata": {},
     "output_type": "execute_result"
    }
   ],
   "source": [
    "classes_data.head(5) # Display the 5 first rows of the dataframe"
   ]
  },
  {
   "cell_type": "markdown",
   "metadata": {},
   "source": [
    "# Exploratory Data Analysis"
   ]
  },
  {
   "cell_type": "markdown",
   "metadata": {},
   "source": [
    "In Exploratory Data Analysis, we plot graphs and charts to visualize how our data looks like. This is practically very helpful to get understanding about the data, relation among different features, how they affect each other, and which attributes are vital to build a learning model."
   ]
  },
  {
   "cell_type": "markdown",
   "metadata": {},
   "source": [
    "##### Histogram"
   ]
  },
  {
   "cell_type": "markdown",
   "metadata": {},
   "source": [
    "A histogram is a plot that lets you discover, and show, the underlying frequency distribution (shape) of a set of continuous data. This allows the inspection of the data for its underlying distribution (e.g., normal distribution), outliers, skewness, etc. An example of a histogram, and the raw data it was constructed from, is shown below:"
   ]
  },
  {
   "cell_type": "code",
   "execution_count": 24,
   "metadata": {
    "collapsed": false
   },
   "outputs": [
    {
     "data": {
      "image/png": "[encoded data removed]",
      "text/plain": [
       "<matplotlib.figure.Figure at 0x7fcab31608d0>"
      ]
     },
     "metadata": {},
     "output_type": "display_data"
    }
   ],
   "source": [
    "ax = sns.countplot(x='class_id', data=classes_data)\n",
    "ax.set_xticklabels(['0', '1','2','3','4'])\n",
    "ax.set_xlabel('class')\n",
    "plt.show()"
   ]
  },
  {
   "cell_type": "markdown",
   "metadata": {},
   "source": [
    "# Visualisation"
   ]
  },
  {
   "cell_type": "markdown",
   "metadata": {},
   "source": [
    "Now we want to get a feeling for how the presence or absence of some specific terms could affect the outcome. "
   ]
  },
  {
   "cell_type": "markdown",
   "metadata": {},
   "source": [
    "## Lets Visualize the data\n",
    "\n",
    "**Note: ** Here we are using seaborn pairplot function to see each across all other features"
   ]
  },
  {
   "cell_type": "code",
   "execution_count": 27,
   "metadata": {
    "collapsed": false
   },
   "outputs": [],
   "source": [
    "# sns.pairplot(classes_data, hue=\"class_id\")"
   ]
  },
  {
   "cell_type": "code",
   "execution_count": 28,
   "metadata": {
    "collapsed": false
   },
   "outputs": [
    {
     "data": {
      "text/plain": [
       "<seaborn.axisgrid.PairGrid at 0x7febaf815990>"
      ]
     },
     "execution_count": 28,
     "metadata": {},
     "output_type": "execute_result"
    },
    {
     "data": {
      "image/png": "[encoded data removed]",
      "text/plain": [
       "<matplotlib.figure.Figure at 0x7febaf7c4b90>"
      ]
     },
     "metadata": {},
     "output_type": "display_data"
    }
   ],
   "source": [
    "sns.pairplot(classification_data, hue=\"class\")"
   ]
  },
  {
   "cell_type": "markdown",
   "metadata": {},
   "source": [
    "Using seaborn, produce one figure with three countplots, one for each of the frequency variables for the words make."
   ]
  },
  {
   "cell_type": "code",
   "execution_count": 54,
   "metadata": {
    "collapsed": false
   },
   "outputs": [
    {
     "data": {
      "image/png": "[encoded data removed]",
      "text/plain": [
       "<matplotlib.figure.Figure at 0x7fcaaf094d50>"
      ]
     },
     "metadata": {},
     "output_type": "display_data"
    },
    {
     "data": {
      "image/png": "[encoded data removed]",
      "text/plain": [
       "<matplotlib.figure.Figure at 0x7fcaaeef4610>"
      ]
     },
     "metadata": {},
     "output_type": "display_data"
    },
    {
     "data": {
      "image/png": "[encoded data removed]",
      "text/plain": [
       "<matplotlib.figure.Figure at 0x7fcaaecbf510>"
      ]
     },
     "metadata": {},
     "output_type": "display_data"
    }
   ],
   "source": [
    "ax = sns.countplot(x='boost', data=classes_data)\n",
    "plt.show()\n",
    "\n",
    "ax = sns.countplot(x='time', data=classes_data)\n",
    "plt.show()\n",
    "\n",
    "ax = sns.countplot(x='warner', data=classes_data)\n",
    "plt.show()"
   ]
  },
  {
   "cell_type": "markdown",
   "metadata": {},
   "source": [
    "Repeat the above but split the bars showing the proportion of terms that belong to class 0/1/2/3/4. Hint: This only requires you to use the hue input argument to use different colours for the 'class_id' variable."
   ]
  },
  {
   "cell_type": "code",
   "execution_count": 50,
   "metadata": {
    "collapsed": false
   },
   "outputs": [
    {
     "data": {
      "image/png": "[encoded data removed]",
      "text/plain": [
       "<matplotlib.figure.Figure at 0x7fcaaf6aed10>"
      ]
     },
     "metadata": {},
     "output_type": "display_data"
    },
    {
     "data": {
      "image/png": "[encoded data removed]",
      "text/plain": [
       "<matplotlib.figure.Figure at 0x7fcaaf456090>"
      ]
     },
     "metadata": {},
     "output_type": "display_data"
    },
    {
     "data": {
      "image/png": "[encoded data removed]",
      "text/plain": [
       "<matplotlib.figure.Figure at 0x7fcaaf42e7d0>"
      ]
     },
     "metadata": {},
     "output_type": "display_data"
    }
   ],
   "source": [
    "# Your code goes here\n",
    "ax = sns.countplot(x='ad', hue='class_id', data=classes_data)\n",
    "plt.show()\n",
    "\n",
    "ax = sns.countplot(x='sale', hue='class_id', data=classes_data)\n",
    "plt.show()\n",
    "\n",
    "ax = sns.countplot(x='rome', hue='class_id', data=classes_data)\n",
    "plt.show()"
   ]
  },
  {
   "cell_type": "markdown",
   "metadata": {},
   "source": [
    "# Applying Classifiers"
   ]
  },
  {
   "cell_type": "markdown",
   "metadata": {},
   "source": [
    "Now we are in a position to apply all machine learning classifiers we studied in this course over the cleaned data. As discussed above, we'll prefer to use sklearn library in python which provides us a quality framework to apply classifiers with great efficiency. Lets discuss & apply all classifiers one by one. "
   ]
  },
  {
   "cell_type": "markdown",
   "metadata": {},
   "source": [
    "### Splitting Data into Trainig and Testing parts\n",
    "We are splitting data into testing and training sets.\n",
    "**Training Set:** Used to build the model\n",
    "**Testing Set:**  Used to test the model"
   ]
  },
  {
   "cell_type": "code",
   "execution_count": 115,
   "metadata": {
    "collapsed": false
   },
   "outputs": [
    {
     "name": "stdout",
     "output_type": "stream",
     "text": [
      "(2225, 2228)\n",
      "(2002, 2227) (2002,) (223, 2227) (223,)\n",
      "False False False False\n"
     ]
    }
   ],
   "source": [
    "arr = np.asarray(classes_data[classes_data.columns])\n",
    "#Check the shape of new array\n",
    "print arr.shape\n",
    "idx = np.arange(1,2228, 1)\n",
    "\n",
    "# I need to replace first index entry '1' with '0' because I need first column not 2nd from array\n",
    "idx[0] = 0\n",
    "\n",
    "# Splitting data into two parts\n",
    "# 90% ---> Training Data\n",
    "# 10% ---> Testing Data\n",
    "Xtrain, Xtest, ytrain, ytest = train_test_split(arr[:, idx],arr[:,1],train_size = 0.9, test_size=0.1, random_state=0)\n",
    "\n",
    "#Print Shape of splitted Data\n",
    "print Xtrain.shape,ytrain.shape,Xtest.shape,ytest.shape                                              \n",
    "\n",
    "# Find if any 'nan' value is present\n",
    "print np.isnan(Xtrain).sum()!=0,np.isnan(Xtest).sum()!=0,np.isnan(ytrain).sum()!=0,np.isnan(ytest).sum()!=0 "
   ]
  },
  {
   "cell_type": "markdown",
   "metadata": {},
   "source": [
    "# Multinomial Naive Bayes classification"
   ]
  },
  {
   "cell_type": "markdown",
   "metadata": {},
   "source": [
    "\n",
    "Given the transformed dataset, we now wish to train a Naïve Bayes classifier to distinguish each term belonging to class (0,1,2,3,4) from other terms in all documents by fitting a distribution of the number of occurrences of each word for all documents. Read about the Naive Bayes classifier and the underlying assumption if you are not already familiar with it. In this project we'll firts focus on the Multinomial Naive Bayes classifier.\n",
    "\n",
    "We will make use of the MultinomialNB class in sklearn. Check out the user guide description and documentation to familiarise yourself with this class.\n",
    "\n",
    "All classifiers in sklearn implement a fit() and predict() method. The first learns the parameters of the model and the latter classifies inputs. For a Naive Bayes classifier, the fit() method takes at least two input arguments X and y, where X are the input features and y are the labels associated with each example in the training dataset (i.e. targets).\n",
    "\n",
    "As a first step we extract the input features and targets from the DataFrame. Now we want to train a Multinomial Naive Bayes classifier. Initialise a MultinomialNB object and fit the classifier using the X and y arrays extracted in the cell above."
   ]
  },
  {
   "cell_type": "markdown",
   "metadata": {},
   "source": [
    "#### Training"
   ]
  },
  {
   "cell_type": "code",
   "execution_count": 34,
   "metadata": {
    "collapsed": false
   },
   "outputs": [
    {
     "data": {
      "text/plain": [
       "MultinomialNB(alpha=1.0, class_prior=None, fit_prior=True)"
      ]
     },
     "execution_count": 34,
     "metadata": {},
     "output_type": "execute_result"
    }
   ],
   "source": [
    "# Creating Multinomial Naive Bayes Object\n",
    "classifier = MultinomialNB()\n",
    "\n",
    "# Now we are building our model\n",
    "classifier.fit(Xtrain, ytrain)"
   ]
  },
  {
   "cell_type": "markdown",
   "metadata": {},
   "source": [
    "#### Testing"
   ]
  },
  {
   "cell_type": "code",
   "execution_count": 35,
   "metadata": {
    "collapsed": false
   },
   "outputs": [
    {
     "name": "stdout",
     "output_type": "stream",
     "text": [
      "Accuracy =  0.955156950673\n",
      "Mean Absolute Error: 0.0627802690583\n"
     ]
    }
   ],
   "source": [
    "# Predicting the Outcome\n",
    "ypredicted = classifier.predict(Xtest)\n",
    "\n",
    "#Calculating Mean Absolute Error which tells us how much our model is misclassifying\n",
    "mae = mean_absolute_error(ytest, ypredicted)\n",
    "\n",
    "print \"Accuracy = \", np.sum(ypredicted==ytest)/float(ytest.shape[0])\n",
    "print \"Mean Absolute Error:\",mae\n"
   ]
  },
  {
   "cell_type": "markdown",
   "metadata": {},
   "source": [
    "### Confusion Matrix"
   ]
  },
  {
   "cell_type": "code",
   "execution_count": 36,
   "metadata": {
    "collapsed": false
   },
   "outputs": [
    {
     "data": {
      "text/html": [
       "<div>\n",
       "<table border=\"1\" class=\"dataframe\">\n",
       "  <thead>\n",
       "    <tr style=\"text-align: right;\">\n",
       "      <th>Predicted</th>\n",
       "      <th>0</th>\n",
       "      <th>1</th>\n",
       "      <th>2</th>\n",
       "      <th>3</th>\n",
       "      <th>4</th>\n",
       "      <th>All</th>\n",
       "    </tr>\n",
       "    <tr>\n",
       "      <th>Actual</th>\n",
       "      <th></th>\n",
       "      <th></th>\n",
       "      <th></th>\n",
       "      <th></th>\n",
       "      <th></th>\n",
       "      <th></th>\n",
       "    </tr>\n",
       "  </thead>\n",
       "  <tbody>\n",
       "    <tr>\n",
       "      <th>0</th>\n",
       "      <td>51</td>\n",
       "      <td>2</td>\n",
       "      <td>3</td>\n",
       "      <td>0</td>\n",
       "      <td>0</td>\n",
       "      <td>56</td>\n",
       "    </tr>\n",
       "    <tr>\n",
       "      <th>1</th>\n",
       "      <td>1</td>\n",
       "      <td>32</td>\n",
       "      <td>1</td>\n",
       "      <td>0</td>\n",
       "      <td>0</td>\n",
       "      <td>34</td>\n",
       "    </tr>\n",
       "    <tr>\n",
       "      <th>2</th>\n",
       "      <td>0</td>\n",
       "      <td>0</td>\n",
       "      <td>47</td>\n",
       "      <td>1</td>\n",
       "      <td>1</td>\n",
       "      <td>49</td>\n",
       "    </tr>\n",
       "    <tr>\n",
       "      <th>3</th>\n",
       "      <td>0</td>\n",
       "      <td>0</td>\n",
       "      <td>0</td>\n",
       "      <td>50</td>\n",
       "      <td>0</td>\n",
       "      <td>50</td>\n",
       "    </tr>\n",
       "    <tr>\n",
       "      <th>4</th>\n",
       "      <td>0</td>\n",
       "      <td>0</td>\n",
       "      <td>0</td>\n",
       "      <td>1</td>\n",
       "      <td>33</td>\n",
       "      <td>34</td>\n",
       "    </tr>\n",
       "    <tr>\n",
       "      <th>All</th>\n",
       "      <td>52</td>\n",
       "      <td>34</td>\n",
       "      <td>51</td>\n",
       "      <td>52</td>\n",
       "      <td>34</td>\n",
       "      <td>223</td>\n",
       "    </tr>\n",
       "  </tbody>\n",
       "</table>\n",
       "</div>"
      ],
      "text/plain": [
       "Predicted   0   1   2   3   4  All\n",
       "Actual                            \n",
       "0          51   2   3   0   0   56\n",
       "1           1  32   1   0   0   34\n",
       "2           0   0  47   1   1   49\n",
       "3           0   0   0  50   0   50\n",
       "4           0   0   0   1  33   34\n",
       "All        52  34  51  52  34  223"
      ]
     },
     "execution_count": 36,
     "metadata": {},
     "output_type": "execute_result"
    }
   ],
   "source": [
    "\n",
    "t.print_confusion_matrix(ypredicted.ravel(),ytest.ravel())"
   ]
  },
  {
   "cell_type": "markdown",
   "metadata": {},
   "source": [
    "## Naive Bayes Classifier\n",
    "Naive Bayes, also known as Naive Bayes Classifiers are classifiers with the assumption that features are **statistically independent** of one another. \n",
    "Unlike many other classifiers which assume that, for a given class, there will be some correlation between features, naive Bayes explicitly models the features as conditionally independent given the class. \n",
    "While this may seem an overly simplistic (naive) restriction on the data, in practice naive Bayes is competitive with more sophisticated techniques and enjoys some theoretical support for its efficacy.\n",
    "\n",
    "In spite of the great advances of the Machine Learning in the last years, it has proven to not only be simple but also fast, accurate and reliable. It has been successfully used for many purposes, but it works particularly well with natural language processing (NLP) problems.\n",
    "\n",
    "#### Training"
   ]
  },
  {
   "cell_type": "code",
   "execution_count": 37,
   "metadata": {
    "collapsed": false
   },
   "outputs": [
    {
     "data": {
      "text/plain": [
       "GaussianNB(priors=None)"
      ]
     },
     "execution_count": 37,
     "metadata": {},
     "output_type": "execute_result"
    }
   ],
   "source": [
    "#Create a Gaussian Classifier\n",
    "gb = GaussianNB()\n",
    "\n",
    "# Train the model using the training sets \n",
    "gb.fit(Xtrain, ytrain)\n"
   ]
  },
  {
   "cell_type": "markdown",
   "metadata": {},
   "source": [
    "#### Testing"
   ]
  },
  {
   "cell_type": "code",
   "execution_count": 38,
   "metadata": {
    "collapsed": false
   },
   "outputs": [
    {
     "name": "stdout",
     "output_type": "stream",
     "text": [
      "Accuracy =  0.762331838565\n",
      "Mean Absolute Error: 0.515695067265\n"
     ]
    }
   ],
   "source": [
    "\n",
    "#Predict Output \n",
    "ypredicted= gb.predict(Xtest)\n",
    "\n",
    "#Calculating Mean Absolute Error which is how much error is in classification\n",
    "mae = mean_absolute_error(ytest, ypredicted)\n",
    "\n",
    "# Calculating how good is our model is performing on unknown examples\n",
    "print \"Accuracy = \", np.sum(ypredicted==ytest)/float(ytest.shape[0])\n",
    "print \"Mean Absolute Error:\",mae\n"
   ]
  },
  {
   "cell_type": "markdown",
   "metadata": {},
   "source": [
    "#### Confusion Matrix"
   ]
  },
  {
   "cell_type": "code",
   "execution_count": 39,
   "metadata": {
    "collapsed": false
   },
   "outputs": [
    {
     "data": {
      "text/html": [
       "<div>\n",
       "<table border=\"1\" class=\"dataframe\">\n",
       "  <thead>\n",
       "    <tr style=\"text-align: right;\">\n",
       "      <th>Predicted</th>\n",
       "      <th>0</th>\n",
       "      <th>1</th>\n",
       "      <th>2</th>\n",
       "      <th>3</th>\n",
       "      <th>4</th>\n",
       "      <th>All</th>\n",
       "    </tr>\n",
       "    <tr>\n",
       "      <th>Actual</th>\n",
       "      <th></th>\n",
       "      <th></th>\n",
       "      <th></th>\n",
       "      <th></th>\n",
       "      <th></th>\n",
       "      <th></th>\n",
       "    </tr>\n",
       "  </thead>\n",
       "  <tbody>\n",
       "    <tr>\n",
       "      <th>0</th>\n",
       "      <td>50</td>\n",
       "      <td>2</td>\n",
       "      <td>1</td>\n",
       "      <td>0</td>\n",
       "      <td>3</td>\n",
       "      <td>56</td>\n",
       "    </tr>\n",
       "    <tr>\n",
       "      <th>1</th>\n",
       "      <td>6</td>\n",
       "      <td>19</td>\n",
       "      <td>1</td>\n",
       "      <td>1</td>\n",
       "      <td>7</td>\n",
       "      <td>34</td>\n",
       "    </tr>\n",
       "    <tr>\n",
       "      <th>2</th>\n",
       "      <td>12</td>\n",
       "      <td>0</td>\n",
       "      <td>33</td>\n",
       "      <td>1</td>\n",
       "      <td>3</td>\n",
       "      <td>49</td>\n",
       "    </tr>\n",
       "    <tr>\n",
       "      <th>3</th>\n",
       "      <td>1</td>\n",
       "      <td>5</td>\n",
       "      <td>2</td>\n",
       "      <td>42</td>\n",
       "      <td>0</td>\n",
       "      <td>50</td>\n",
       "    </tr>\n",
       "    <tr>\n",
       "      <th>4</th>\n",
       "      <td>3</td>\n",
       "      <td>2</td>\n",
       "      <td>2</td>\n",
       "      <td>1</td>\n",
       "      <td>26</td>\n",
       "      <td>34</td>\n",
       "    </tr>\n",
       "    <tr>\n",
       "      <th>All</th>\n",
       "      <td>72</td>\n",
       "      <td>28</td>\n",
       "      <td>39</td>\n",
       "      <td>45</td>\n",
       "      <td>39</td>\n",
       "      <td>223</td>\n",
       "    </tr>\n",
       "  </tbody>\n",
       "</table>\n",
       "</div>"
      ],
      "text/plain": [
       "Predicted   0   1   2   3   4  All\n",
       "Actual                            \n",
       "0          50   2   1   0   3   56\n",
       "1           6  19   1   1   7   34\n",
       "2          12   0  33   1   3   49\n",
       "3           1   5   2  42   0   50\n",
       "4           3   2   2   1  26   34\n",
       "All        72  28  39  45  39  223"
      ]
     },
     "execution_count": 39,
     "metadata": {},
     "output_type": "execute_result"
    }
   ],
   "source": [
    "t.print_confusion_matrix(ypredicted.ravel(),ytest.ravel())"
   ]
  },
  {
   "cell_type": "markdown",
   "metadata": {},
   "source": [
    "## Support Vector Classifier"
   ]
  },
  {
   "cell_type": "markdown",
   "metadata": {},
   "source": [
    "**“Support Vector Machine”** (SVM) is a supervised machine learning algorithm which can be used for both classification or regression challenges. \n",
    "However,  it is mostly used in classification problems. In this algorithm, we plot each data item as a point in n-dimensional space (where n is number of features you have) with the value of each feature being the value of a particular coordinate. \n",
    "Then, we perform classification by finding the hyper-plane that differentiate the all classes very well.\n",
    "\n",
    "#### Cross Validation for SVC"
   ]
  },
  {
   "cell_type": "code",
   "execution_count": 124,
   "metadata": {
    "collapsed": false
   },
   "outputs": [
    {
     "data": {
      "text/plain": [
       "0.93573033707865172"
      ]
     },
     "execution_count": 124,
     "metadata": {},
     "output_type": "execute_result"
    }
   ],
   "source": [
    "# from sklearn import svm\n",
    "clf = svm.SVC(kernel='linear', C=1).fit(Xtrain, ytrain)\n",
    "# clf.score(Xtest, ytest)  \n",
    "\n",
    "from sklearn.model_selection import cross_val_predict\n",
    "from sklearn import metrics\n",
    "predicted = cross_val_predict(classifier,arr[:, idx],arr[:,1] , cv=10)\n",
    "metrics.accuracy_score(arr[:,1], predicted) "
   ]
  },
  {
   "cell_type": "markdown",
   "metadata": {},
   "source": [
    "### K-Fold Cross Validation\n",
    "\n",
    "Advantages:\n",
    "- All observations are used for both training and \n",
    "validation. Each observation is used for \n",
    "validation exactly once\n",
    "\n",
    "- Non exhaustive: More tractable than leave-p-out"
   ]
  },
  {
   "cell_type": "code",
   "execution_count": 133,
   "metadata": {
    "collapsed": false
   },
   "outputs": [
    {
     "name": "stdout",
     "output_type": "stream",
     "text": [
      "[0.99850299401197606, 0.99850074962518742, 0.992503748125937]\n"
     ]
    }
   ],
   "source": [
    "X_folds = np.array_split(Xtrain, 3)\n",
    "y_folds = np.array_split(ytrain, 3)\n",
    "scores = list()\n",
    "best_Xtrain = []\n",
    "best_ytrain = []\n",
    "best_Xtest = []\n",
    "best_ytest = []\n",
    "\n",
    "best_score=0.0\n",
    "\n",
    "for k in range(3):\n",
    "     # We use 'list' to copy, in order to 'pop' later on\n",
    "    X_train = list(X_folds)\n",
    "    X_test  = X_train.pop(k)\n",
    "    X_train = np.concatenate(X_train)\n",
    "    y_train = list(y_folds)\n",
    "    y_test  = y_train.pop(k)\n",
    "    y_train = np.concatenate(y_train)\n",
    "    score = clf.fit(X_train, y_train).score(X_test, y_test)\n",
    "    if score > best_score:\n",
    "        best_score = score\n",
    "        best_Xtrain = X_train\n",
    "        best_ytrain = y_train\n",
    "        best_Xtest = X_test\n",
    "        best_ytest = y_test\n",
    "    scores.append(score)\n",
    "    \n",
    "print(scores)"
   ]
  },
  {
   "cell_type": "markdown",
   "metadata": {},
   "source": [
    "### Best Score"
   ]
  },
  {
   "cell_type": "code",
   "execution_count": 131,
   "metadata": {
    "collapsed": false
   },
   "outputs": [
    {
     "data": {
      "text/plain": [
       "0.99850299401197606"
      ]
     },
     "execution_count": 131,
     "metadata": {},
     "output_type": "execute_result"
    }
   ],
   "source": [
    "clf.fit(best_Xtrain, best_ytrain).score(best_Xtest, best_ytest)"
   ]
  },
  {
   "cell_type": "markdown",
   "metadata": {},
   "source": [
    "## Decision Tree Classifier"
   ]
  },
  {
   "cell_type": "code",
   "execution_count": 73,
   "metadata": {
    "collapsed": false
   },
   "outputs": [
    {
     "name": "stdout",
     "output_type": "stream",
     "text": [
      "Accuracy =  0.995515695067\n",
      "Mean Absolute Error: 0.00448430493274\n"
     ]
    }
   ],
   "source": [
    "from sklearn import tree\n",
    "\n",
    "#Creating Decision Tree Classifier\n",
    "clf = tree.DecisionTreeClassifier()\n",
    "\n",
    "#Train the Model using dataset\n",
    "clf.fit(Xtrain, ytrain)\n",
    "\n",
    "#Predict the output\n",
    "yfit = clf.predict(Xtest)\n",
    "\n",
    "# Calculating Error in predictions\n",
    "mae = mean_absolute_error(ytest, yfit)\n",
    "\n",
    "print \"Accuracy = \", np.sum(yfit==ytest)/float(ytest.shape[0])\n",
    "print \"Mean Absolute Error:\",mae\n"
   ]
  },
  {
   "cell_type": "markdown",
   "metadata": {},
   "source": [
    "#### Confusion Matrix"
   ]
  },
  {
   "cell_type": "code",
   "execution_count": 57,
   "metadata": {
    "collapsed": false
   },
   "outputs": [
    {
     "data": {
      "text/html": [
       "<div>\n",
       "<table border=\"1\" class=\"dataframe\">\n",
       "  <thead>\n",
       "    <tr style=\"text-align: right;\">\n",
       "      <th>Predicted</th>\n",
       "      <th>0</th>\n",
       "      <th>1</th>\n",
       "      <th>2</th>\n",
       "      <th>3</th>\n",
       "      <th>4</th>\n",
       "      <th>All</th>\n",
       "    </tr>\n",
       "    <tr>\n",
       "      <th>Actual</th>\n",
       "      <th></th>\n",
       "      <th></th>\n",
       "      <th></th>\n",
       "      <th></th>\n",
       "      <th></th>\n",
       "      <th></th>\n",
       "    </tr>\n",
       "  </thead>\n",
       "  <tbody>\n",
       "    <tr>\n",
       "      <th>0</th>\n",
       "      <td>56</td>\n",
       "      <td>0</td>\n",
       "      <td>0</td>\n",
       "      <td>0</td>\n",
       "      <td>0</td>\n",
       "      <td>56</td>\n",
       "    </tr>\n",
       "    <tr>\n",
       "      <th>1</th>\n",
       "      <td>1</td>\n",
       "      <td>33</td>\n",
       "      <td>0</td>\n",
       "      <td>0</td>\n",
       "      <td>0</td>\n",
       "      <td>34</td>\n",
       "    </tr>\n",
       "    <tr>\n",
       "      <th>2</th>\n",
       "      <td>0</td>\n",
       "      <td>0</td>\n",
       "      <td>49</td>\n",
       "      <td>0</td>\n",
       "      <td>0</td>\n",
       "      <td>49</td>\n",
       "    </tr>\n",
       "    <tr>\n",
       "      <th>3</th>\n",
       "      <td>0</td>\n",
       "      <td>0</td>\n",
       "      <td>0</td>\n",
       "      <td>50</td>\n",
       "      <td>0</td>\n",
       "      <td>50</td>\n",
       "    </tr>\n",
       "    <tr>\n",
       "      <th>4</th>\n",
       "      <td>0</td>\n",
       "      <td>0</td>\n",
       "      <td>0</td>\n",
       "      <td>0</td>\n",
       "      <td>34</td>\n",
       "      <td>34</td>\n",
       "    </tr>\n",
       "    <tr>\n",
       "      <th>All</th>\n",
       "      <td>57</td>\n",
       "      <td>33</td>\n",
       "      <td>49</td>\n",
       "      <td>50</td>\n",
       "      <td>34</td>\n",
       "      <td>223</td>\n",
       "    </tr>\n",
       "  </tbody>\n",
       "</table>\n",
       "</div>"
      ],
      "text/plain": [
       "Predicted   0   1   2   3   4  All\n",
       "Actual                            \n",
       "0          56   0   0   0   0   56\n",
       "1           1  33   0   0   0   34\n",
       "2           0   0  49   0   0   49\n",
       "3           0   0   0  50   0   50\n",
       "4           0   0   0   0  34   34\n",
       "All        57  33  49  50  34  223"
      ]
     },
     "execution_count": 57,
     "metadata": {},
     "output_type": "execute_result"
    }
   ],
   "source": [
    "t.print_confusion_matrix(yfit.ravel(),ytest.ravel())"
   ]
  },
  {
   "cell_type": "markdown",
   "metadata": {},
   "source": [
    "## K Neighbors Classifier\n",
    "\n",
    "Now we want to explore the effect of the k parameter. To do this, train the classifier multiple times, each time setting the KNN option to a different value. Try 5, 10, 50, 100, 200, 500, 1000, 1500 and 2000 and test the classifier on the test set. How does the k parameter effect the results? Hint: Consider how well the classifier is generalising to previously unseen data, and how it compares to the base rate again."
   ]
  },
  {
   "cell_type": "markdown",
   "metadata": {},
   "source": [
    "### Cross Validation"
   ]
  },
  {
   "cell_type": "code",
   "execution_count": 74,
   "metadata": {
    "collapsed": true
   },
   "outputs": [],
   "source": [
    "# Your code goes here\n",
    "ks = [5, 10, 50, 100, 200, 500, 1000, 1500, 2000]"
   ]
  },
  {
   "cell_type": "code",
   "execution_count": 75,
   "metadata": {
    "collapsed": true
   },
   "outputs": [],
   "source": [
    "def trainAndScoreKnnClassifier(k, trainData, trainTargets, testData, testTargets):\n",
    "    classifier = KNeighborsClassifier(n_neighbors=k)\n",
    "    classifier.fit(trainData, trainTargets)\n",
    "    #print \"knn classifier with k: \" + str(k)\n",
    "    #print \"training score:\"\n",
    "    trainingScore = classifier.score(trainData, trainTargets)\n",
    "    #print trainingScore\n",
    "    #print \"testing score:\"\n",
    "    testingScore = classifier.score(testData, testTargets)\n",
    "    #print testingScore\n",
    "    return k, trainingScore, testingScore"
   ]
  },
  {
   "cell_type": "code",
   "execution_count": 76,
   "metadata": {
    "collapsed": false
   },
   "outputs": [],
   "source": [
    "scoreDict = dict()\n",
    "for k in ks:\n",
    "    curK, curTrainingScore, curTestingScore = trainAndScoreKnnClassifier(k, Xtrain, ytrain, Xtest, ytest)\n",
    "    scoreDict[k] = {\n",
    "        \"trainingScore\": curTrainingScore,\n",
    "        \"testingScore\": curTestingScore\n",
    "    }"
   ]
  },
  {
   "cell_type": "code",
   "execution_count": 77,
   "metadata": {
    "collapsed": false
   },
   "outputs": [
    {
     "data": {
      "text/plain": [
       "{5: {'testingScore': 0.99551569506726456,\n",
       "  'trainingScore': 0.99800199800199796},\n",
       " 10: {'testingScore': 0.99551569506726456,\n",
       "  'trainingScore': 0.99700299700299699},\n",
       " 50: {'testingScore': 0.99551569506726456,\n",
       "  'trainingScore': 0.9985014985014985},\n",
       " 100: {'testingScore': 0.99551569506726456,\n",
       "  'trainingScore': 0.99700299700299699},\n",
       " 200: {'testingScore': 0.99551569506726456,\n",
       "  'trainingScore': 0.99400599400599399},\n",
       " 500: {'testingScore': 0.99551569506726456,\n",
       "  'trainingScore': 0.99400599400599399},\n",
       " 1000: {'testingScore': 0.6547085201793722,\n",
       "  'trainingScore': 0.60289710289710285},\n",
       " 1500: {'testingScore': 0.47533632286995514,\n",
       "  'trainingScore': 0.45654345654345652},\n",
       " 2000: {'testingScore': 0.22421524663677131,\n",
       "  'trainingScore': 0.23026973026973027}}"
      ]
     },
     "execution_count": 77,
     "metadata": {},
     "output_type": "execute_result"
    }
   ],
   "source": [
    "scoreDict"
   ]
  },
  {
   "cell_type": "markdown",
   "metadata": {},
   "source": [
    "\n",
    "\n",
    "**We notice** that as the k increases the training score is decreasing, which is expected because the best prediction to be made for the training instances is the one nearest neighbor.\n",
    "\n",
    "But more importantly we care for testing, unseen, data. We see that the testing score climbs up and then starts falling again with a maximum at k=2000 even though the k=100 is much more computationally preferable and the classification accuracy is not bad.\n"
   ]
  },
  {
   "cell_type": "code",
   "execution_count": 78,
   "metadata": {
    "collapsed": false
   },
   "outputs": [
    {
     "name": "stdout",
     "output_type": "stream",
     "text": [
      "Accuracy =  0.995515695067\n",
      "Mean Absolute Error: 0.00448430493274\n"
     ]
    }
   ],
   "source": [
    "#Creating Knn Classifier Instance\n",
    "neigh = KNeighborsClassifier(n_neighbors=200)\n",
    "\n",
    "neigh.fit(Xtrain, ytrain)\n",
    "\n",
    "\n",
    "ypredict = neigh.predict(Xtest)\n",
    "\n",
    "#Evaluating the Error in predictions\n",
    "mae =mean_absolute_error(ytest, ypredict)\n",
    "\n",
    "print \"Accuracy = \", np.sum(ypredict==ytest)/float(ytest.shape[0])\n",
    "print \"Mean Absolute Error:\",mae\n"
   ]
  },
  {
   "cell_type": "markdown",
   "metadata": {},
   "source": [
    "#### Confusion Matrix"
   ]
  },
  {
   "cell_type": "code",
   "execution_count": 79,
   "metadata": {
    "collapsed": false
   },
   "outputs": [
    {
     "data": {
      "text/html": [
       "<div>\n",
       "<table border=\"1\" class=\"dataframe\">\n",
       "  <thead>\n",
       "    <tr style=\"text-align: right;\">\n",
       "      <th>Predicted</th>\n",
       "      <th>0</th>\n",
       "      <th>1</th>\n",
       "      <th>2</th>\n",
       "      <th>3</th>\n",
       "      <th>4</th>\n",
       "      <th>All</th>\n",
       "    </tr>\n",
       "    <tr>\n",
       "      <th>Actual</th>\n",
       "      <th></th>\n",
       "      <th></th>\n",
       "      <th></th>\n",
       "      <th></th>\n",
       "      <th></th>\n",
       "      <th></th>\n",
       "    </tr>\n",
       "  </thead>\n",
       "  <tbody>\n",
       "    <tr>\n",
       "      <th>0</th>\n",
       "      <td>56</td>\n",
       "      <td>0</td>\n",
       "      <td>0</td>\n",
       "      <td>0</td>\n",
       "      <td>0</td>\n",
       "      <td>56</td>\n",
       "    </tr>\n",
       "    <tr>\n",
       "      <th>1</th>\n",
       "      <td>1</td>\n",
       "      <td>33</td>\n",
       "      <td>0</td>\n",
       "      <td>0</td>\n",
       "      <td>0</td>\n",
       "      <td>34</td>\n",
       "    </tr>\n",
       "    <tr>\n",
       "      <th>2</th>\n",
       "      <td>0</td>\n",
       "      <td>0</td>\n",
       "      <td>49</td>\n",
       "      <td>0</td>\n",
       "      <td>0</td>\n",
       "      <td>49</td>\n",
       "    </tr>\n",
       "    <tr>\n",
       "      <th>3</th>\n",
       "      <td>0</td>\n",
       "      <td>0</td>\n",
       "      <td>0</td>\n",
       "      <td>50</td>\n",
       "      <td>0</td>\n",
       "      <td>50</td>\n",
       "    </tr>\n",
       "    <tr>\n",
       "      <th>4</th>\n",
       "      <td>0</td>\n",
       "      <td>0</td>\n",
       "      <td>0</td>\n",
       "      <td>0</td>\n",
       "      <td>34</td>\n",
       "      <td>34</td>\n",
       "    </tr>\n",
       "    <tr>\n",
       "      <th>All</th>\n",
       "      <td>57</td>\n",
       "      <td>33</td>\n",
       "      <td>49</td>\n",
       "      <td>50</td>\n",
       "      <td>34</td>\n",
       "      <td>223</td>\n",
       "    </tr>\n",
       "  </tbody>\n",
       "</table>\n",
       "</div>"
      ],
      "text/plain": [
       "Predicted   0   1   2   3   4  All\n",
       "Actual                            \n",
       "0          56   0   0   0   0   56\n",
       "1           1  33   0   0   0   34\n",
       "2           0   0  49   0   0   49\n",
       "3           0   0   0  50   0   50\n",
       "4           0   0   0   0  34   34\n",
       "All        57  33  49  50  34  223"
      ]
     },
     "execution_count": 79,
     "metadata": {},
     "output_type": "execute_result"
    }
   ],
   "source": [
    "t.print_confusion_matrix(ypredict.ravel(),ytest.ravel())"
   ]
  },
  {
   "cell_type": "markdown",
   "metadata": {},
   "source": [
    "### Plotting k-value Vs Accuracy\n",
    "\n",
    "Plot the results (k-value on the x-axis and classification accuracy on the y-axis), making sure to mark the axes. \n",
    "**Can you conclude anything from observing the plot?**\n",
    "**Yes,** we notice that initially when k-value is smaller, accuracy is lower but when k-value increases accuracy starts increasing untill reaching a point where with further increase in k-value leads to fall in accuracy."
   ]
  },
  {
   "cell_type": "code",
   "execution_count": 86,
   "metadata": {
    "collapsed": false
   },
   "outputs": [
    {
     "data": {
      "image/png": "[encoded data removed]",
      "text/plain": [
       "<matplotlib.figure.Figure at 0x7fcaae2dd090>"
      ]
     },
     "metadata": {},
     "output_type": "display_data"
    }
   ],
   "source": [
    "# Your code goes here\n",
    "fig = plt.figure()\n",
    "plt.hold(True)\n",
    "plt.axis([0, 2000, 0, 1])\n",
    "plt.plot(scoreDict.keys(), [x['trainingScore'] for x in scoreDict.values()], 'b.')\n",
    "plt.plot(scoreDict.keys(), [x['testingScore'] for x in scoreDict.values()], 'r.')\n",
    "plt.xlabel('k-value')\n",
    "plt.ylabel('classification accuracy')\n",
    "plt.hold(False)\n",
    "\n",
    "plt.show()\n"
   ]
  },
  {
   "cell_type": "code",
   "execution_count": 87,
   "metadata": {
    "collapsed": false
   },
   "outputs": [
    {
     "data": {
      "image/png": "[encoded data removed]",
      "text/plain": [
       "<matplotlib.figure.Figure at 0x7fcaae212650>"
      ]
     },
     "metadata": {},
     "output_type": "display_data"
    }
   ],
   "source": [
    "# plotting again here with log x axis to show the differences at the first small k values\n",
    "fig = plt.figure()\n",
    "plt.hold(True)\n",
    "plt.plot(np.log(scoreDict.keys()), [x['trainingScore'] for x in scoreDict.values()], 'b.')\n",
    "plt.plot(np.log(scoreDict.keys()), [x['testingScore'] for x in scoreDict.values()], 'r.')\n",
    "plt.hold(False)\n",
    "plt.show()"
   ]
  },
  {
   "cell_type": "markdown",
   "metadata": {},
   "source": [
    "\n",
    "\n",
    "Your answer goes here\n",
    "\n",
    "We notice that the training accuracy is continuously falling as the knn gets bigger while the testing accuracy rises a little bit and then falls, it has a maximum value\n"
   ]
  },
  {
   "cell_type": "markdown",
   "metadata": {},
   "source": [
    "Select best value for k from Questions 2.9 and 2.10 and plot the normalised confusion matrix on the test set. Then plot the confusion matrix for a 5-nearest neighbor classifier. **What do you observe?**"
   ]
  },
  {
   "cell_type": "code",
   "execution_count": 88,
   "metadata": {
    "collapsed": true
   },
   "outputs": [],
   "source": [
    "testingScores = [x['testingScore'] for x in scoreDict.values()]"
   ]
  },
  {
   "cell_type": "code",
   "execution_count": 89,
   "metadata": {
    "collapsed": false
   },
   "outputs": [
    {
     "data": {
      "text/plain": [
       "100"
      ]
     },
     "execution_count": 89,
     "metadata": {},
     "output_type": "execute_result"
    }
   ],
   "source": [
    "bestK = scoreDict.keys()[np.argmax(testingScores)]\n",
    "bestK"
   ]
  },
  {
   "cell_type": "code",
   "execution_count": 91,
   "metadata": {
    "collapsed": true
   },
   "outputs": [],
   "source": [
    "def whatClassesAreResponsibleForEachClassification(confusionMatrix):\n",
    "    return confusionMatrix / np.sum(confusionMatrix, axis=0)"
   ]
  },
  {
   "cell_type": "code",
   "execution_count": 92,
   "metadata": {
    "collapsed": true
   },
   "outputs": [],
   "source": [
    "def howEachClassHasBeenClassified(confusionMatrix):\n",
    "    return (confusionMatrix.T / np.sum(confusionMatrix, axis=1)).T"
   ]
  },
  {
   "cell_type": "code",
   "execution_count": 93,
   "metadata": {
    "collapsed": true
   },
   "outputs": [],
   "source": [
    "# Your code goes here\n",
    "def getKnnPredictions(k, trainData, trainTargets, testData):\n",
    "    classifier = KNeighborsClassifier(n_neighbors=k)\n",
    "    classifier.fit(trainData, trainTargets)\n",
    "    return classifier.predict(testData)"
   ]
  },
  {
   "cell_type": "code",
   "execution_count": 94,
   "metadata": {
    "collapsed": true
   },
   "outputs": [],
   "source": [
    "def getInvertedNormalizedConfusionMatrix(realTargets, predictions):\n",
    "    return whatClassesAreResponsibleForEachClassification(\n",
    "        confusion_matrix(y_true=realTargets, y_pred=predictions)\n",
    "    )"
   ]
  },
  {
   "cell_type": "code",
   "execution_count": 95,
   "metadata": {
    "collapsed": true
   },
   "outputs": [],
   "source": [
    "def getNormalizedConfusionMatrix(realTargets, predictions):\n",
    "    return howEachClassHasBeenClassified(\n",
    "        confusion_matrix(y_true=realTargets, y_pred=predictions)\n",
    "    )"
   ]
  },
  {
   "cell_type": "code",
   "execution_count": 96,
   "metadata": {
    "collapsed": true
   },
   "outputs": [],
   "source": [
    "def plot_confusion_matrix(cm, classes=None, title='Confusion matrix'):\n",
    "    \"\"\"Plots a confusion matrix.\"\"\"\n",
    "    if classes is not None:\n",
    "        sns.heatmap(cm, xticklabels=classes, yticklabels=classes, vmin=0., vmax=1., annot=True)\n",
    "    else:\n",
    "        sns.heatmap(cm, vmin=0., vmax=1.)\n",
    "    plt.title(title)\n",
    "    plt.ylabel('True label')\n",
    "    plt.xlabel('Predicted label')"
   ]
  },
  {
   "cell_type": "code",
   "execution_count": 98,
   "metadata": {
    "collapsed": true
   },
   "outputs": [],
   "source": [
    "availableClasses = np.unique(ytest)"
   ]
  },
  {
   "cell_type": "code",
   "execution_count": 105,
   "metadata": {
    "collapsed": false
   },
   "outputs": [
    {
     "data": {
      "image/png": "[encoded data removed]",
      "text/plain": [
       "<matplotlib.figure.Figure at 0x7fcaa2482ed0>"
      ]
     },
     "metadata": {},
     "output_type": "display_data"
    }
   ],
   "source": [
    "k = 1000\n",
    "\n",
    "plot_confusion_matrix(getInvertedNormalizedConfusionMatrix(\n",
    "        realTargets=ytest,\n",
    "        predictions=getKnnPredictions(k = k, trainData=Xtrain, trainTargets=ytrain, testData=Xtest)),\n",
    "    classes = availableClasses, title='Confusion Matrix for k = %d' % k)"
   ]
  },
  {
   "cell_type": "code",
   "execution_count": 106,
   "metadata": {
    "collapsed": false
   },
   "outputs": [
    {
     "data": {
      "image/png": "[encoded data removed]",
      "text/plain": [
       "<matplotlib.figure.Figure at 0x7fcaa22ff1d0>"
      ]
     },
     "metadata": {},
     "output_type": "display_data"
    }
   ],
   "source": [
    "k = bestK\n",
    "\n",
    "plot_confusion_matrix(getInvertedNormalizedConfusionMatrix(\n",
    "        realTargets=ytest,\n",
    "        predictions=getKnnPredictions(k = k, trainData=Xtrain, trainTargets=ytrain, testData=Xtest)),\n",
    "    classes = availableClasses, title='Confusion Matrix for k = %d' % k)"
   ]
  },
  {
   "cell_type": "markdown",
   "metadata": {},
   "source": [
    "**NOTE:** Here the problem is imbalanced as we see from the histogram plotted above. The class N has large prior. We have 3 times more N instances than we do EI and IE instances. This means that as the k grows bigger the N will tend to be the majority of the instances and we are more likely to predict an instance to be of class N."
   ]
  },
  {
   "cell_type": "code",
   "execution_count": 107,
   "metadata": {
    "collapsed": true
   },
   "outputs": [],
   "source": [
    "def trainAndLogLossKnnClassifier(k, trainData, trainTargets, testData, testTargets):\n",
    "    classifier = KNeighborsClassifier(n_neighbors=k)\n",
    "    classifier.fit(trainData, trainTargets)\n",
    "    #print \"knn classifier with k: \" + str(k)\n",
    "    #print \"training score:\"\n",
    "    trainingLogLoss = log_loss(y_true = trainTargets, y_pred = classifier.predict_proba(trainData))\n",
    "    #print trainingScore\n",
    "    #print \"testing score:\"\n",
    "    testingLogLoss = log_loss(y_true = testTargets, y_pred = classifier.predict_proba(testData))\n",
    "    #print testingScore\n",
    "    return k, trainingLogLoss, testingLogLoss"
   ]
  },
  {
   "cell_type": "code",
   "execution_count": 108,
   "metadata": {
    "collapsed": false
   },
   "outputs": [
    {
     "data": {
      "text/plain": [
       "{5: {'testingLogLoss': 0.15688369281408118,\n",
       "  'trainingLogLoss': 0.0052536191714077996},\n",
       " 10: {'testingLogLoss': 0.16482705057004671,\n",
       "  'trainingLogLoss': 0.0078119882718811146},\n",
       " 50: {'testingLogLoss': 0.196335216833846,\n",
       "  'trainingLogLoss': 0.03079138250153704},\n",
       " 100: {'testingLogLoss': 0.23899869197804807,\n",
       "  'trainingLogLoss': 0.059988778221925665},\n",
       " 200: {'testingLogLoss': 0.30895066359652801,\n",
       "  'trainingLogLoss': 0.11950920731259643},\n",
       " 500: {'testingLogLoss': 0.38037747348100792,\n",
       "  'trainingLogLoss': 0.34505927842779821},\n",
       " 1000: {'testingLogLoss': 0.90372773675457208,\n",
       "  'trainingLogLoss': 0.90860384329536714},\n",
       " 1500: {'testingLogLoss': 1.3091928448627355,\n",
       "  'trainingLogLoss': 1.3140689514035306},\n",
       " 2000: {'testingLogLoss': 1.5968749173145151,\n",
       "  'trainingLogLoss': 1.601751023855311}}"
      ]
     },
     "execution_count": 108,
     "metadata": {},
     "output_type": "execute_result"
    }
   ],
   "source": [
    "logLossDict = dict()\n",
    "\n",
    "for k in ks:\n",
    "    curK, curTrainingLogLoss, curTestingLogLoss = trainAndLogLossKnnClassifier(\n",
    "        k, Xtrain, ytrain, Xtest, ytest\n",
    "    )\n",
    "    \n",
    "    logLossDict[k] = {\n",
    "        \"trainingLogLoss\": curTrainingLogLoss,\n",
    "        \"testingLogLoss\": curTestingLogLoss\n",
    "    }\n",
    "    \n",
    "logLossDict"
   ]
  },
  {
   "cell_type": "code",
   "execution_count": 109,
   "metadata": {
    "collapsed": false
   },
   "outputs": [
    {
     "data": {
      "image/png": "[encoded data removed]",
      "text/plain": [
       "<matplotlib.figure.Figure at 0x7fcaa2004390>"
      ]
     },
     "metadata": {},
     "output_type": "display_data"
    }
   ],
   "source": [
    "# Your code goes here\n",
    "fig = plt.figure()\n",
    "plt.hold(True)\n",
    "plt.plot(logLossDict.keys(), [x['trainingLogLoss'] for x in logLossDict.values()], 'b.')\n",
    "plt.plot(logLossDict.keys(), [x['testingLogLoss'] for x in logLossDict.values()], 'r.')\n",
    "plt.hold(False)\n",
    "plt.show()\n"
   ]
  },
  {
   "cell_type": "code",
   "execution_count": 110,
   "metadata": {
    "collapsed": false
   },
   "outputs": [
    {
     "data": {
      "image/png": "[encoded data removed]",
      "text/plain": [
       "<matplotlib.figure.Figure at 0x7fcaa1f7c7d0>"
      ]
     },
     "metadata": {},
     "output_type": "display_data"
    }
   ],
   "source": [
    "# Your code goes here\n",
    "fig = plt.figure()\n",
    "plt.hold(True)\n",
    "plt.plot(np.log(logLossDict.keys()), [x['trainingLogLoss'] for x in logLossDict.values()], 'b.')\n",
    "plt.plot(np.log(logLossDict.keys()), [x['testingLogLoss'] for x in logLossDict.values()], 'r.')\n",
    "plt.hold(False)\n",
    "plt.show()\n",
    "\n"
   ]
  },
  {
   "cell_type": "markdown",
   "metadata": {},
   "source": [
    "The classification accuracy is the same for both classifiers because both would classify the one test point as correct and therefore both would have 1/1 = 100% classification accuracy.\n",
    "\n",
    "Yes indeed the classifier with probability 0.99 is better than the classifier with probability 0.55 because the classifier must be more sure that this one test point is the correct one (since it is classifying it correctly)\n",
    "\n",
    "From the plots above we notice that for training and testing data as k is small the certainty of the classifier for the testing data is quite low in comparison with the training data. While the k is getting larger the certainty (log loss) is the same for classifying training data or testing data.\n",
    "\n",
    "Now is interesting to notice that for k=50 the classifier has the minimum log loss (or the maximum certainty).\n",
    "\n",
    "In our case because the K=100 and k=500 have similar accuracy but the k=100 has lower log-loss probability we would prefer the kNN classifier with k=100"
   ]
  },
  {
   "cell_type": "markdown",
   "metadata": {},
   "source": [
    "The kNearestNeighbors Classifier is a generative model, you can assign probabilities according to the neighbors.\n",
    "\n",
    "While the SVM classifier is a discriminative model which only describes the boundary between the two classes. We cannot have probabilities for it"
   ]
  },
  {
   "cell_type": "markdown",
   "metadata": {},
   "source": [
    "## Linear SVC Classifier"
   ]
  },
  {
   "cell_type": "code",
   "execution_count": 111,
   "metadata": {
    "collapsed": false
   },
   "outputs": [
    {
     "name": "stdout",
     "output_type": "stream",
     "text": [
      "Accuracy =  0.757847533632\n",
      "Mean Absolute Error: 0.242152466368\n"
     ]
    }
   ],
   "source": [
    "#Creating Instance of Linear SVC Classifier\n",
    "lscv = LinearSVC()\n",
    "\n",
    "#Training the model\n",
    "lscv.fit(Xtrain, ytrain)\n",
    "\n",
    "# Testing the model\n",
    "ypredict = lscv.predict(Xtest)\n",
    "\n",
    "#Evaluating the Error in predictions\n",
    "mae =mean_absolute_error(ytest, ypredict)\n",
    "\n",
    "print \"Accuracy = \", np.sum(ypredict==ytest)/float(ytest.shape[0])\n",
    "print \"Mean Absolute Error:\",mae\n"
   ]
  },
  {
   "cell_type": "markdown",
   "metadata": {},
   "source": [
    "#### Confusion Matrix"
   ]
  },
  {
   "cell_type": "code",
   "execution_count": 112,
   "metadata": {
    "collapsed": false
   },
   "outputs": [
    {
     "data": {
      "text/html": [
       "<div>\n",
       "<table border=\"1\" class=\"dataframe\">\n",
       "  <thead>\n",
       "    <tr style=\"text-align: right;\">\n",
       "      <th>Predicted</th>\n",
       "      <th>0</th>\n",
       "      <th>1</th>\n",
       "      <th>2</th>\n",
       "      <th>4</th>\n",
       "      <th>All</th>\n",
       "    </tr>\n",
       "    <tr>\n",
       "      <th>Actual</th>\n",
       "      <th></th>\n",
       "      <th></th>\n",
       "      <th></th>\n",
       "      <th></th>\n",
       "      <th></th>\n",
       "    </tr>\n",
       "  </thead>\n",
       "  <tbody>\n",
       "    <tr>\n",
       "      <th>0</th>\n",
       "      <td>56</td>\n",
       "      <td>0</td>\n",
       "      <td>0</td>\n",
       "      <td>0</td>\n",
       "      <td>56</td>\n",
       "    </tr>\n",
       "    <tr>\n",
       "      <th>1</th>\n",
       "      <td>3</td>\n",
       "      <td>30</td>\n",
       "      <td>1</td>\n",
       "      <td>0</td>\n",
       "      <td>34</td>\n",
       "    </tr>\n",
       "    <tr>\n",
       "      <th>2</th>\n",
       "      <td>0</td>\n",
       "      <td>0</td>\n",
       "      <td>49</td>\n",
       "      <td>0</td>\n",
       "      <td>49</td>\n",
       "    </tr>\n",
       "    <tr>\n",
       "      <th>3</th>\n",
       "      <td>0</td>\n",
       "      <td>0</td>\n",
       "      <td>7</td>\n",
       "      <td>43</td>\n",
       "      <td>50</td>\n",
       "    </tr>\n",
       "    <tr>\n",
       "      <th>4</th>\n",
       "      <td>0</td>\n",
       "      <td>0</td>\n",
       "      <td>0</td>\n",
       "      <td>34</td>\n",
       "      <td>34</td>\n",
       "    </tr>\n",
       "    <tr>\n",
       "      <th>All</th>\n",
       "      <td>59</td>\n",
       "      <td>30</td>\n",
       "      <td>57</td>\n",
       "      <td>77</td>\n",
       "      <td>223</td>\n",
       "    </tr>\n",
       "  </tbody>\n",
       "</table>\n",
       "</div>"
      ],
      "text/plain": [
       "Predicted   0   1   2   4  All\n",
       "Actual                        \n",
       "0          56   0   0   0   56\n",
       "1           3  30   1   0   34\n",
       "2           0   0  49   0   49\n",
       "3           0   0   7  43   50\n",
       "4           0   0   0  34   34\n",
       "All        59  30  57  77  223"
      ]
     },
     "execution_count": 112,
     "metadata": {},
     "output_type": "execute_result"
    }
   ],
   "source": [
    "t.print_confusion_matrix(ypredict.ravel(),ytest.ravel())"
   ]
  },
  {
   "cell_type": "markdown",
   "metadata": {},
   "source": [
    "## Random Forest Classifier"
   ]
  },
  {
   "cell_type": "code",
   "execution_count": null,
   "metadata": {
    "collapsed": true
   },
   "outputs": [],
   "source": []
  },
  {
   "cell_type": "code",
   "execution_count": 113,
   "metadata": {
    "collapsed": false
   },
   "outputs": [
    {
     "name": "stdout",
     "output_type": "stream",
     "text": [
      "Accuracy =  0.910313901345\n",
      "Mean Absolute Error: 0.165919282511\n"
     ]
    }
   ],
   "source": [
    "from sklearn.ensemble import RandomForestClassifier\n",
    "\n",
    "clf = RandomForestClassifier(n_estimators=10, max_depth=8)\n",
    "\n",
    "#Train the Model using dataset\n",
    "clf.fit(Xtrain, ytrain)\n",
    "\n",
    "#Predict the output\n",
    "yfit = clf.predict(Xtest)\n",
    "\n",
    "# Calculating Error in predictions\n",
    "mae = mean_absolute_error(ytest, yfit)\n",
    "\n",
    "print \"Accuracy = \", np.sum(yfit==ytest)/float(ytest.shape[0])\n",
    "print \"Mean Absolute Error:\",mae"
   ]
  },
  {
   "cell_type": "markdown",
   "metadata": {},
   "source": [
    "#### Confusion Matrix"
   ]
  },
  {
   "cell_type": "code",
   "execution_count": 114,
   "metadata": {
    "collapsed": false
   },
   "outputs": [
    {
     "data": {
      "text/html": [
       "<div>\n",
       "<table border=\"1\" class=\"dataframe\">\n",
       "  <thead>\n",
       "    <tr style=\"text-align: right;\">\n",
       "      <th>Predicted</th>\n",
       "      <th>0</th>\n",
       "      <th>1</th>\n",
       "      <th>2</th>\n",
       "      <th>3</th>\n",
       "      <th>4</th>\n",
       "      <th>All</th>\n",
       "    </tr>\n",
       "    <tr>\n",
       "      <th>Actual</th>\n",
       "      <th></th>\n",
       "      <th></th>\n",
       "      <th></th>\n",
       "      <th></th>\n",
       "      <th></th>\n",
       "      <th></th>\n",
       "    </tr>\n",
       "  </thead>\n",
       "  <tbody>\n",
       "    <tr>\n",
       "      <th>0</th>\n",
       "      <td>55</td>\n",
       "      <td>0</td>\n",
       "      <td>0</td>\n",
       "      <td>1</td>\n",
       "      <td>0</td>\n",
       "      <td>56</td>\n",
       "    </tr>\n",
       "    <tr>\n",
       "      <th>1</th>\n",
       "      <td>3</td>\n",
       "      <td>23</td>\n",
       "      <td>0</td>\n",
       "      <td>6</td>\n",
       "      <td>2</td>\n",
       "      <td>34</td>\n",
       "    </tr>\n",
       "    <tr>\n",
       "      <th>2</th>\n",
       "      <td>1</td>\n",
       "      <td>0</td>\n",
       "      <td>46</td>\n",
       "      <td>2</td>\n",
       "      <td>0</td>\n",
       "      <td>49</td>\n",
       "    </tr>\n",
       "    <tr>\n",
       "      <th>3</th>\n",
       "      <td>0</td>\n",
       "      <td>0</td>\n",
       "      <td>0</td>\n",
       "      <td>50</td>\n",
       "      <td>0</td>\n",
       "      <td>50</td>\n",
       "    </tr>\n",
       "    <tr>\n",
       "      <th>4</th>\n",
       "      <td>1</td>\n",
       "      <td>0</td>\n",
       "      <td>1</td>\n",
       "      <td>3</td>\n",
       "      <td>29</td>\n",
       "      <td>34</td>\n",
       "    </tr>\n",
       "    <tr>\n",
       "      <th>All</th>\n",
       "      <td>60</td>\n",
       "      <td>23</td>\n",
       "      <td>47</td>\n",
       "      <td>62</td>\n",
       "      <td>31</td>\n",
       "      <td>223</td>\n",
       "    </tr>\n",
       "  </tbody>\n",
       "</table>\n",
       "</div>"
      ],
      "text/plain": [
       "Predicted   0   1   2   3   4  All\n",
       "Actual                            \n",
       "0          55   0   0   1   0   56\n",
       "1           3  23   0   6   2   34\n",
       "2           1   0  46   2   0   49\n",
       "3           0   0   0  50   0   50\n",
       "4           1   0   1   3  29   34\n",
       "All        60  23  47  62  31  223"
      ]
     },
     "execution_count": 114,
     "metadata": {},
     "output_type": "execute_result"
    }
   ],
   "source": [
    "t.print_confusion_matrix(yfit.ravel(),ytest.ravel())"
   ]
  },
  {
   "cell_type": "markdown",
   "metadata": {},
   "source": [
    "## Gradient Boosting Classifier"
   ]
  },
  {
   "cell_type": "code",
   "execution_count": 64,
   "metadata": {
    "collapsed": false
   },
   "outputs": [
    {
     "name": "stdout",
     "output_type": "stream",
     "text": [
      "Accuracy =  0.995515695067\n",
      "Mean Absolute Error: 0.00448430493274\n"
     ]
    }
   ],
   "source": [
    "from sklearn.ensemble import GradientBoostingClassifier\n",
    "\n",
    "clf = GradientBoostingClassifier(n_estimators=100, learning_rate=1.0, max_depth=1, random_state=0)\n",
    "\n",
    "#Train the Model using dataset\n",
    "clf.fit(Xtrain, ytrain)\n",
    "\n",
    "#Predict the output\n",
    "yfit = clf.predict(Xtest)\n",
    "\n",
    "# Calculating Error in predictions\n",
    "mae = mean_absolute_error(ytest, yfit)\n",
    "\n",
    "print \"Accuracy = \", np.sum(yfit==ytest)/float(ytest.shape[0])\n",
    "print \"Mean Absolute Error:\",mae"
   ]
  },
  {
   "cell_type": "markdown",
   "metadata": {},
   "source": [
    "#### Confusion Matrix"
   ]
  },
  {
   "cell_type": "code",
   "execution_count": 65,
   "metadata": {
    "collapsed": false
   },
   "outputs": [
    {
     "data": {
      "text/html": [
       "<div>\n",
       "<table border=\"1\" class=\"dataframe\">\n",
       "  <thead>\n",
       "    <tr style=\"text-align: right;\">\n",
       "      <th>Predicted</th>\n",
       "      <th>0</th>\n",
       "      <th>1</th>\n",
       "      <th>2</th>\n",
       "      <th>3</th>\n",
       "      <th>4</th>\n",
       "      <th>All</th>\n",
       "    </tr>\n",
       "    <tr>\n",
       "      <th>Actual</th>\n",
       "      <th></th>\n",
       "      <th></th>\n",
       "      <th></th>\n",
       "      <th></th>\n",
       "      <th></th>\n",
       "      <th></th>\n",
       "    </tr>\n",
       "  </thead>\n",
       "  <tbody>\n",
       "    <tr>\n",
       "      <th>0</th>\n",
       "      <td>56</td>\n",
       "      <td>0</td>\n",
       "      <td>0</td>\n",
       "      <td>0</td>\n",
       "      <td>0</td>\n",
       "      <td>56</td>\n",
       "    </tr>\n",
       "    <tr>\n",
       "      <th>1</th>\n",
       "      <td>1</td>\n",
       "      <td>33</td>\n",
       "      <td>0</td>\n",
       "      <td>0</td>\n",
       "      <td>0</td>\n",
       "      <td>34</td>\n",
       "    </tr>\n",
       "    <tr>\n",
       "      <th>2</th>\n",
       "      <td>0</td>\n",
       "      <td>0</td>\n",
       "      <td>49</td>\n",
       "      <td>0</td>\n",
       "      <td>0</td>\n",
       "      <td>49</td>\n",
       "    </tr>\n",
       "    <tr>\n",
       "      <th>3</th>\n",
       "      <td>0</td>\n",
       "      <td>0</td>\n",
       "      <td>0</td>\n",
       "      <td>50</td>\n",
       "      <td>0</td>\n",
       "      <td>50</td>\n",
       "    </tr>\n",
       "    <tr>\n",
       "      <th>4</th>\n",
       "      <td>0</td>\n",
       "      <td>0</td>\n",
       "      <td>0</td>\n",
       "      <td>0</td>\n",
       "      <td>34</td>\n",
       "      <td>34</td>\n",
       "    </tr>\n",
       "    <tr>\n",
       "      <th>All</th>\n",
       "      <td>57</td>\n",
       "      <td>33</td>\n",
       "      <td>49</td>\n",
       "      <td>50</td>\n",
       "      <td>34</td>\n",
       "      <td>223</td>\n",
       "    </tr>\n",
       "  </tbody>\n",
       "</table>\n",
       "</div>"
      ],
      "text/plain": [
       "Predicted   0   1   2   3   4  All\n",
       "Actual                            \n",
       "0          56   0   0   0   0   56\n",
       "1           1  33   0   0   0   34\n",
       "2           0   0  49   0   0   49\n",
       "3           0   0   0  50   0   50\n",
       "4           0   0   0   0  34   34\n",
       "All        57  33  49  50  34  223"
      ]
     },
     "execution_count": 65,
     "metadata": {},
     "output_type": "execute_result"
    }
   ],
   "source": [
    "t.print_confusion_matrix(yfit.ravel(),ytest.ravel())"
   ]
  },
  {
   "cell_type": "markdown",
   "metadata": {},
   "source": [
    "## Ada Boost Classifier"
   ]
  },
  {
   "cell_type": "code",
   "execution_count": 71,
   "metadata": {
    "collapsed": false
   },
   "outputs": [
    {
     "name": "stdout",
     "output_type": "stream",
     "text": [
      "Accuracy =  0.627802690583\n",
      "Mean Absolute Error: 0.520179372197\n"
     ]
    }
   ],
   "source": [
    "from sklearn.ensemble import AdaBoostClassifier\n",
    "\n",
    "clf = AdaBoostClassifier()\n",
    "\n",
    "#Train the Model using dataset\n",
    "clf.fit(Xtrain, ytrain)\n",
    "\n",
    "#Predict the output\n",
    "yfit = clf.predict(Xtest)\n",
    "\n",
    "# Calculating Error in predictions\n",
    "mae = mean_absolute_error(ytest, yfit)\n",
    "\n",
    "print \"Accuracy = \", np.sum(yfit==ytest)/float(ytest.shape[0])\n",
    "print \"Mean Absolute Error:\",mae"
   ]
  },
  {
   "cell_type": "code",
   "execution_count": 72,
   "metadata": {
    "collapsed": false
   },
   "outputs": [
    {
     "data": {
      "text/html": [
       "<div>\n",
       "<table border=\"1\" class=\"dataframe\">\n",
       "  <thead>\n",
       "    <tr style=\"text-align: right;\">\n",
       "      <th>Predicted</th>\n",
       "      <th>0</th>\n",
       "      <th>3</th>\n",
       "      <th>4</th>\n",
       "      <th>All</th>\n",
       "    </tr>\n",
       "    <tr>\n",
       "      <th>Actual</th>\n",
       "      <th></th>\n",
       "      <th></th>\n",
       "      <th></th>\n",
       "      <th></th>\n",
       "    </tr>\n",
       "  </thead>\n",
       "  <tbody>\n",
       "    <tr>\n",
       "      <th>0</th>\n",
       "      <td>56</td>\n",
       "      <td>0</td>\n",
       "      <td>0</td>\n",
       "      <td>56</td>\n",
       "    </tr>\n",
       "    <tr>\n",
       "      <th>1</th>\n",
       "      <td>1</td>\n",
       "      <td>33</td>\n",
       "      <td>0</td>\n",
       "      <td>34</td>\n",
       "    </tr>\n",
       "    <tr>\n",
       "      <th>2</th>\n",
       "      <td>0</td>\n",
       "      <td>49</td>\n",
       "      <td>0</td>\n",
       "      <td>49</td>\n",
       "    </tr>\n",
       "    <tr>\n",
       "      <th>3</th>\n",
       "      <td>0</td>\n",
       "      <td>50</td>\n",
       "      <td>0</td>\n",
       "      <td>50</td>\n",
       "    </tr>\n",
       "    <tr>\n",
       "      <th>4</th>\n",
       "      <td>0</td>\n",
       "      <td>0</td>\n",
       "      <td>34</td>\n",
       "      <td>34</td>\n",
       "    </tr>\n",
       "    <tr>\n",
       "      <th>All</th>\n",
       "      <td>57</td>\n",
       "      <td>132</td>\n",
       "      <td>34</td>\n",
       "      <td>223</td>\n",
       "    </tr>\n",
       "  </tbody>\n",
       "</table>\n",
       "</div>"
      ],
      "text/plain": [
       "Predicted   0    3   4  All\n",
       "Actual                     \n",
       "0          56    0   0   56\n",
       "1           1   33   0   34\n",
       "2           0   49   0   49\n",
       "3           0   50   0   50\n",
       "4           0    0  34   34\n",
       "All        57  132  34  223"
      ]
     },
     "execution_count": 72,
     "metadata": {},
     "output_type": "execute_result"
    }
   ],
   "source": [
    "t.print_confusion_matrix(yfit.ravel(),ytest.ravel())\n"
   ]
  },
  {
   "cell_type": "code",
   "execution_count": null,
   "metadata": {
    "collapsed": true
   },
   "outputs": [],
   "source": []
  }
 ],
 "metadata": {
  "anaconda-cloud": {},
  "kernelspec": {
   "display_name": "Python [conda root]",
   "language": "python",
   "name": "conda-root-py"
  },
  "language_info": {
   "codemirror_mode": {
    "name": "ipython",
    "version": 2
   },
   "file_extension": ".py",
   "mimetype": "text/x-python",
   "name": "python",
   "nbconvert_exporter": "python",
   "pygments_lexer": "ipython2",
   "version": "2.7.12"
  }
 },
 "nbformat": 4,
 "nbformat_minor": 1
}
